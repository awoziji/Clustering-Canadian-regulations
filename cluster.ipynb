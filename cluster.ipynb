{
 "cells": [
  {
   "cell_type": "code",
   "execution_count": 2,
   "metadata": {
    "collapsed": false
   },
   "outputs": [
    {
     "name": "stderr",
     "output_type": "stream",
     "text": [
      "[nltk_data] Downloading package punkt to /home/bumblebee/nltk_data...\n[nltk_data]   Package punkt is already up-to-date!\n[nltk_data] Downloading package stopwords to\n[nltk_data]     /home/bumblebee/nltk_data...\n[nltk_data]   Package stopwords is already up-to-date!\n"
     ]
    },
    {
     "data": {
      "text/plain": [
       "True"
      ]
     },
     "execution_count": 2,
     "metadata": {},
     "output_type": "execute_result"
    }
   ],
   "source": [
    "import re\n",
    "import sys\n",
    "from collections import defaultdict\n",
    "from os import cpu_count, walk, path\n",
    "from typing import List, Tuple\n",
    "\n",
    "import nltk\n",
    "import pandas as pd\n",
    "from gensim.models.doc2vec import TaggedDocument, Doc2Vec\n",
    "from matplotlib import pyplot as plt\n",
    "from nltk.corpus import stopwords\n",
    "from nltk.stem.porter import PorterStemmer\n",
    "from numpy import ndarray\n",
    "from sklearn.cluster import KMeans\n",
    "from sklearn.decomposition import PCA\n",
    "\n",
    "import conf\n",
    "\n",
    "csvfile = '../Semantic-Analysis-Regulations/regulations_data_analysis.csv'\n",
    "doc2vec_model_name = 'doc2vec_model_{}'.format(conf.DATA_SOURCE)\n",
    "\n",
    "nltk.download('punkt')\n",
    "nltk.download('stopwords')"
   ]
  },
  {
   "cell_type": "code",
   "execution_count": 3,
   "metadata": {
    "collapsed": false
   },
   "outputs": [],
   "source": [
    "def tokenize(text: str) -> List[str]:\n",
    "    # Tokenize\n",
    "    tokenized_text: List[str] = nltk.word_tokenize(text)\n",
    "\n",
    "    # Remove unwanted words (numbers and stopwords)\n",
    "    stops: List[str] = stopwords.words('english')\n",
    "    # TODO: Do we need to filter out numbers?\n",
    "    tokenized_text: List[str] = [token for token in tokenized_text\n",
    "                                  if re.match(r'.*[A-Za-z].*', token)\n",
    "                                  and token not in stops]\n",
    "\n",
    "    # Stemming\n",
    "    # https://www.nltk.org/api/nltk.stem.html#module-nltk.stem.porter\n",
    "    stemmer = PorterStemmer()\n",
    "    return [stemmer.stem(token) for token in tokenized_text]"
   ]
  },
  {
   "cell_type": "code",
   "execution_count": 9,
   "metadata": {
    "collapsed": false
   },
   "outputs": [],
   "source": [
    "def build_model(documents: List[str]) -> None:\n",
    "    print('Building Doc2Vec model')\n",
    "\n",
    "    model = Doc2Vec(vector_size=conf.VECTOR_SIZE,\n",
    "                    window=conf.WINDOW,\n",
    "                    min_count=conf.MIN_COUNT,\n",
    "                    workers=cpu_count() - 1,\n",
    "                    epochs=conf.EPOCHS)\n",
    "    model.build_vocab(documents)\n",
    "    model.train(documents,\n",
    "                total_examples=len(documents),\n",
    "                epochs=model.iter)\n",
    "    model.save(doc2vec_model_name)\n",
    "    \n",
    "def load_model() -> Doc2Vec:\n",
    "    return Doc2Vec.load(doc2vec_model_name)"
   ]
  },
  {
   "cell_type": "code",
   "execution_count": 5,
   "metadata": {},
   "outputs": [],
   "source": [
    "def cluster() -> Tuple[KMeans, ndarray]:\n",
    "    kmeans_model = KMeans(n_clusters=conf.N_CLUSTERS,\n",
    "                          n_jobs=-1,\n",
    "                          #verbose=True\n",
    "                          )\n",
    "    colors = kmeans_model.fit_predict(load_model().docvecs.vectors_docs)\n",
    "    return (kmeans_model, colors)"
   ]
  },
  {
   "cell_type": "code",
   "execution_count": 6,
   "metadata": {},
   "outputs": [
    {
     "name": "stdout",
     "output_type": "stream",
     "text": [
      "Loading file C.R.C.,_c._10\nLoading file C.R.C.,_c._100\nLoading file C.R.C.,_c._101\n"
     ]
    },
    {
     "name": "stdout",
     "output_type": "stream",
     "text": [
      "Loading file C.R.C.,_c._1013\nLoading file C.R.C.,_c._1015\nLoading file C.R.C.,_c._102\nLoading file C.R.C.,_c._1021\n"
     ]
    },
    {
     "name": "stdout",
     "output_type": "stream",
     "text": [
      "Loading file C.R.C.,_c._1022\nLoading file C.R.C.,_c._1023\nLoading file C.R.C.,_c._1026\nLoading file C.R.C.,_c._1027\nLoading file C.R.C.,_c._103\nLoading file C.R.C.,_c._1033\nLoading file C.R.C.,_c._1035\n"
     ]
    },
    {
     "name": "stdout",
     "output_type": "stream",
     "text": [
      "Loading file C.R.C.,_c._1036\n"
     ]
    },
    {
     "name": "stdout",
     "output_type": "stream",
     "text": [
      "Loading file C.R.C.,_c._1038\n"
     ]
    },
    {
     "name": "stdout",
     "output_type": "stream",
     "text": [
      "Loading file C.R.C.,_c._104\nLoading file C.R.C.,_c._1041\n"
     ]
    },
    {
     "name": "stdout",
     "output_type": "stream",
     "text": [
      "Loading file C.R.C.,_c._1044\nLoading file C.R.C.,_c._1045\nLoading file C.R.C.,_c._1046\nLoading file C.R.C.,_c._1048\nLoading file C.R.C.,_c._1049\n"
     ]
    },
    {
     "name": "stdout",
     "output_type": "stream",
     "text": [
      "Loading file C.R.C.,_c._105\n"
     ]
    },
    {
     "name": "stdout",
     "output_type": "stream",
     "text": [
      "Loading file C.R.C.,_c._1050\nLoading file C.R.C.,_c._1055\nLoading file C.R.C.,_c._1058\n"
     ]
    },
    {
     "name": "stdout",
     "output_type": "stream",
     "text": [
      "Loading file C.R.C.,_c._106\nLoading file C.R.C.,_c._109\nLoading file C.R.C.,_c._1105\n"
     ]
    },
    {
     "name": "stdout",
     "output_type": "stream",
     "text": [
      "Loading file C.R.C.,_c._1107\nLoading file C.R.C.,_c._111\n"
     ]
    },
    {
     "name": "stdout",
     "output_type": "stream",
     "text": [
      "Loading file C.R.C.,_c._1111\nLoading file C.R.C.,_c._1112\n"
     ]
    },
    {
     "name": "stdout",
     "output_type": "stream",
     "text": [
      "Loading file C.R.C.,_c._1114\nLoading file C.R.C.,_c._112\nLoading file C.R.C.,_c._1120\nLoading file C.R.C.,_c._1126\n"
     ]
    },
    {
     "name": "stdout",
     "output_type": "stream",
     "text": [
      "Loading file C.R.C.,_c._113\nLoading file C.R.C.,_c._1130\nLoading file C.R.C.,_c._1134\nLoading file C.R.C.,_c._114\nLoading file C.R.C.,_c._1145\n"
     ]
    },
    {
     "name": "stdout",
     "output_type": "stream",
     "text": [
      "Loading file C.R.C.,_c._1146\nLoading file C.R.C.,_c._1147\nLoading file C.R.C.,_c._1148\n"
     ]
    },
    {
     "name": "stdout",
     "output_type": "stream",
     "text": [
      "Loading file C.R.C.,_c._115\nLoading file C.R.C.,_c._1151\nLoading file C.R.C.,_c._1152\nLoading file C.R.C.,_c._116\nLoading file C.R.C.,_c._117\n"
     ]
    },
    {
     "name": "stdout",
     "output_type": "stream",
     "text": [
      "Loading file C.R.C.,_c._1171\n"
     ]
    },
    {
     "name": "stdout",
     "output_type": "stream",
     "text": [
      "Loading file C.R.C.,_c._118\nLoading file C.R.C.,_c._1182\nLoading file C.R.C.,_c._1183\nLoading file C.R.C.,_c._1185\nLoading file C.R.C.,_c._1195\nLoading file C.R.C.,_c._121\nLoading file C.R.C.,_c._122\nLoading file C.R.C.,_c._1225\nLoading file C.R.C.,_c._123\n"
     ]
    },
    {
     "name": "stdout",
     "output_type": "stream",
     "text": [
      "Loading file C.R.C.,_c._1231\nLoading file C.R.C.,_c._1232\nLoading file C.R.C.,_c._1235\nLoading file C.R.C.,_c._1236\nLoading file C.R.C.,_c._1238\nLoading file C.R.C.,_c._1239\nLoading file C.R.C.,_c._1240\nLoading file C.R.C.,_c._1241\nLoading file C.R.C.,_c._1242\nLoading file C.R.C.,_c._1244\nLoading file C.R.C.,_c._1245\nLoading file C.R.C.,_c._1246\nLoading file C.R.C.,_c._1247\nLoading file C.R.C.,_c._125\nLoading file C.R.C.,_c._1253\n"
     ]
    },
    {
     "name": "stdout",
     "output_type": "stream",
     "text": [
      "Loading file C.R.C.,_c._1254\nLoading file C.R.C.,_c._1264\nLoading file C.R.C.,_c._1266\nLoading file C.R.C.,_c._1268\n"
     ]
    },
    {
     "name": "stdout",
     "output_type": "stream",
     "text": [
      "Loading file C.R.C.,_c._1270\nLoading file C.R.C.,_c._1274\nLoading file C.R.C.,_c._128\nLoading file C.R.C.,_c._1283\nLoading file C.R.C.,_c._1288\nLoading file C.R.C.,_c._129\nLoading file C.R.C.,_c._1292\nLoading file C.R.C.,_c._1295\nLoading file C.R.C.,_c._1296\nLoading file C.R.C.,_c._1298\nLoading file C.R.C.,_c._130\n"
     ]
    },
    {
     "name": "stdout",
     "output_type": "stream",
     "text": [
      "Loading file C.R.C.,_c._1301\nLoading file C.R.C.,_c._1302\nLoading file C.R.C.,_c._1303\nLoading file C.R.C.,_c._1304\nLoading file C.R.C.,_c._1305\nLoading file C.R.C.,_c._1306\nLoading file C.R.C.,_c._1307\nLoading file C.R.C.,_c._1308\nLoading file C.R.C.,_c._1309\nLoading file C.R.C.,_c._1311\nLoading file C.R.C.,_c._1312\nLoading file C.R.C.,_c._1314\nLoading file C.R.C.,_c._1315\nLoading file C.R.C.,_c._1316\n"
     ]
    },
    {
     "name": "stdout",
     "output_type": "stream",
     "text": [
      "Loading file C.R.C.,_c._1317\nLoading file C.R.C.,_c._1318\nLoading file C.R.C.,_c._1319\nLoading file C.R.C.,_c._1320\nLoading file C.R.C.,_c._1321\nLoading file C.R.C.,_c._1326\nLoading file C.R.C.,_c._1328\nLoading file C.R.C.,_c._133\nLoading file C.R.C.,_c._1330\nLoading file C.R.C.,_c._1331\nLoading file C.R.C.,_c._1332\nLoading file C.R.C.,_c._1333\nLoading file C.R.C.,_c._1335\nLoading file C.R.C.,_c._1336\nLoading file C.R.C.,_c._134\nLoading file C.R.C.,_c._1341\n"
     ]
    },
    {
     "name": "stdout",
     "output_type": "stream",
     "text": [
      "Loading file C.R.C.,_c._1342\nLoading file C.R.C.,_c._135\nLoading file C.R.C.,_c._1352\nLoading file C.R.C.,_c._1354\nLoading file C.R.C.,_c._1355\nLoading file C.R.C.,_c._1356\nLoading file C.R.C.,_c._1357\nLoading file C.R.C.,_c._1358\n"
     ]
    },
    {
     "name": "stdout",
     "output_type": "stream",
     "text": [
      "Loading file C.R.C.,_c._1359\nLoading file C.R.C.,_c._1360\nLoading file C.R.C.,_c._1365\nLoading file C.R.C.,_c._1367\nLoading file C.R.C.,_c._1368\nLoading file C.R.C.,_c._1370\n"
     ]
    },
    {
     "name": "stdout",
     "output_type": "stream",
     "text": [
      "Loading file C.R.C.,_c._1375\nLoading file C.R.C.,_c._1376\nLoading file C.R.C.,_c._1377\nLoading file C.R.C.,_c._1378\nLoading file C.R.C.,_c._1379\nLoading file C.R.C.,_c._1380\nLoading file C.R.C.,_c._1381\nLoading file C.R.C.,_c._1382\nLoading file C.R.C.,_c._1384\nLoading file C.R.C.,_c._1385\nLoading file C.R.C.,_c._1386\nLoading file C.R.C.,_c._1387\n"
     ]
    },
    {
     "name": "stdout",
     "output_type": "stream",
     "text": [
      "Loading file C.R.C.,_c._1388\nLoading file C.R.C.,_c._1390\nLoading file C.R.C.,_c._1392\nLoading file C.R.C.,_c._1393\n"
     ]
    },
    {
     "name": "stdout",
     "output_type": "stream",
     "text": [
      "Loading file C.R.C.,_c._1394\nLoading file C.R.C.,_c._14\nLoading file C.R.C.,_c._140\nLoading file C.R.C.,_c._1400\n"
     ]
    },
    {
     "name": "stdout",
     "output_type": "stream",
     "text": [
      "Loading file C.R.C.,_c._1403\nLoading file C.R.C.,_c._1404\nLoading file C.R.C.,_c._1405\n"
     ]
    },
    {
     "name": "stdout",
     "output_type": "stream",
     "text": [
      "Loading file C.R.C.,_c._1407\nLoading file C.R.C.,_c._1416\n"
     ]
    },
    {
     "name": "stdout",
     "output_type": "stream",
     "text": [
      "Loading file C.R.C.,_c._1418\nLoading file C.R.C.,_c._142\nLoading file C.R.C.,_c._1422\nLoading file C.R.C.,_c._1424\nLoading file C.R.C.,_c._1425\n"
     ]
    },
    {
     "name": "stdout",
     "output_type": "stream",
     "text": [
      "Loading file C.R.C.,_c._1427\nLoading file C.R.C.,_c._1429\nLoading file C.R.C.,_c._1430\nLoading file C.R.C.,_c._1431\n"
     ]
    },
    {
     "name": "stdout",
     "output_type": "stream",
     "text": [
      "Loading file C.R.C.,_c._1432\n"
     ]
    },
    {
     "name": "stdout",
     "output_type": "stream",
     "text": [
      "Loading file C.R.C.,_c._1435\n"
     ]
    },
    {
     "name": "stdout",
     "output_type": "stream",
     "text": [
      "Loading file C.R.C.,_c._1436\n"
     ]
    },
    {
     "name": "stdout",
     "output_type": "stream",
     "text": [
      "Loading file C.R.C.,_c._1440\nLoading file C.R.C.,_c._1441\nLoading file C.R.C.,_c._1442\n"
     ]
    },
    {
     "name": "stdout",
     "output_type": "stream",
     "text": [
      "Loading file C.R.C.,_c._1448\nLoading file C.R.C.,_c._1458\nLoading file C.R.C.,_c._1465\n"
     ]
    },
    {
     "name": "stdout",
     "output_type": "stream",
     "text": [
      "Loading file C.R.C.,_c._1467\nLoading file C.R.C.,_c._147\nLoading file C.R.C.,_c._1472\nLoading file C.R.C.,_c._1479\nLoading file C.R.C.,_c._148\n"
     ]
    },
    {
     "name": "stdout",
     "output_type": "stream",
     "text": [
      "Loading file C.R.C.,_c._1480\nLoading file C.R.C.,_c._1482\nLoading file C.R.C.,_c._1486\n"
     ]
    },
    {
     "name": "stdout",
     "output_type": "stream",
     "text": [
      "Loading file C.R.C.,_c._1487\nLoading file C.R.C.,_c._149\nLoading file C.R.C.,_c._1494\nLoading file C.R.C.,_c._1495\nLoading file C.R.C.,_c._1496\nLoading file C.R.C.,_c._1498\n"
     ]
    },
    {
     "name": "stdout",
     "output_type": "stream",
     "text": [
      "Loading file C.R.C.,_c._15\nLoading file C.R.C.,_c._150\nLoading file C.R.C.,_c._1501\nLoading file C.R.C.,_c._1504\nLoading file C.R.C.,_c._1509\nLoading file C.R.C.,_c._1511\n"
     ]
    },
    {
     "name": "stdout",
     "output_type": "stream",
     "text": [
      "Loading file C.R.C.,_c._1516\nLoading file C.R.C.,_c._1517\n"
     ]
    },
    {
     "name": "stdout",
     "output_type": "stream",
     "text": [
      "Loading file C.R.C.,_c._1518\n"
     ]
    },
    {
     "name": "stdout",
     "output_type": "stream",
     "text": [
      "Loading file C.R.C.,_c._152\nLoading file C.R.C.,_c._1520\nLoading file C.R.C.,_c._1521\nLoading file C.R.C.,_c._1522\nLoading file C.R.C.,_c._1523\nLoading file C.R.C.,_c._1524\n"
     ]
    },
    {
     "name": "stdout",
     "output_type": "stream",
     "text": [
      "Loading file C.R.C.,_c._1525\nLoading file C.R.C.,_c._1526\nLoading file C.R.C.,_c._1527\nLoading file C.R.C.,_c._1530\nLoading file C.R.C.,_c._1533\nLoading file C.R.C.,_c._1535\nLoading file C.R.C.,_c._1537\nLoading file C.R.C.,_c._1539\nLoading file C.R.C.,_c._154\nLoading file C.R.C.,_c._1540\nLoading file C.R.C.,_c._1541\nLoading file C.R.C.,_c._1547\nLoading file C.R.C.,_c._1548\n"
     ]
    },
    {
     "name": "stdout",
     "output_type": "stream",
     "text": [
      "Loading file C.R.C.,_c._1549\nLoading file C.R.C.,_c._155\nLoading file C.R.C.,_c._1550\nLoading file C.R.C.,_c._1551\nLoading file C.R.C.,_c._1552\nLoading file C.R.C.,_c._1560\nLoading file C.R.C.,_c._1561\n"
     ]
    },
    {
     "name": "stdout",
     "output_type": "stream",
     "text": [
      "Loading file C.R.C.,_c._1563\nLoading file C.R.C.,_c._1564\nLoading file C.R.C.,_c._1566\nLoading file C.R.C.,_c._1575\n"
     ]
    },
    {
     "name": "stdout",
     "output_type": "stream",
     "text": [
      "Loading file C.R.C.,_c._1578\nLoading file C.R.C.,_c._1579\nLoading file C.R.C.,_c._1581\nLoading file C.R.C.,_c._1582\nLoading file C.R.C.,_c._1584\nLoading file C.R.C.,_c._1585\nLoading file C.R.C.,_c._1586\nLoading file C.R.C.,_c._1587\nLoading file C.R.C.,_c._1588\nLoading file C.R.C.,_c._1590\nLoading file C.R.C.,_c._1593\nLoading file C.R.C.,_c._1594\n"
     ]
    },
    {
     "name": "stdout",
     "output_type": "stream",
     "text": [
      "Loading file C.R.C.,_c._1596\nLoading file C.R.C.,_c._1597\nLoading file C.R.C.,_c._1598\nLoading file C.R.C.,_c._1599\nLoading file C.R.C.,_c._16\nLoading file C.R.C.,_c._160\nLoading file C.R.C.,_c._1600\nLoading file C.R.C.,_c._1601\nLoading file C.R.C.,_c._1602\n"
     ]
    },
    {
     "name": "stdout",
     "output_type": "stream",
     "text": [
      "Loading file C.R.C.,_c._1603\n"
     ]
    },
    {
     "name": "stdout",
     "output_type": "stream",
     "text": [
      "Loading file C.R.C.,_c._1604\nLoading file C.R.C.,_c._1605\n"
     ]
    },
    {
     "name": "stdout",
     "output_type": "stream",
     "text": [
      "Loading file C.R.C.,_c._1607\nLoading file C.R.C.,_c._1609\n"
     ]
    },
    {
     "name": "stdout",
     "output_type": "stream",
     "text": [
      "Loading file C.R.C.,_c._1610\nLoading file C.R.C.,_c._1611\nLoading file C.R.C.,_c._162\nLoading file C.R.C.,_c._1621\nLoading file C.R.C.,_c._1622\nLoading file C.R.C.,_c._1623\nLoading file C.R.C.,_c._164\nLoading file C.R.C.,_c._165\nLoading file C.R.C.,_c._166\nLoading file C.R.C.,_c._167\nLoading file C.R.C.,_c._168\nLoading file C.R.C.,_c._169\nLoading file C.R.C.,_c._170\nLoading file C.R.C.,_c._176\nLoading file C.R.C.,_c._177\nLoading file C.R.C.,_c._178\nLoading file C.R.C.,_c._179\nLoading file C.R.C.,_c._180\nLoading file C.R.C.,_c._181\nLoading file C.R.C.,_c._182\nLoading file C.R.C.,_c._183\n"
     ]
    },
    {
     "name": "stdout",
     "output_type": "stream",
     "text": [
      "Loading file C.R.C.,_c._185\nLoading file C.R.C.,_c._186\nLoading file C.R.C.,_c._194\nLoading file C.R.C.,_c._19552561\nLoading file C.R.C.,_c._198\nLoading file C.R.C.,_c._201\nLoading file C.R.C.,_c._207\nLoading file C.R.C.,_c._208\nLoading file C.R.C.,_c._209\nLoading file C.R.C.,_c._210\nLoading file C.R.C.,_c._211\nLoading file C.R.C.,_c._212\nLoading file C.R.C.,_c._213\nLoading file C.R.C.,_c._215\nLoading file C.R.C.,_c._216\nLoading file C.R.C.,_c._217\nLoading file C.R.C.,_c._218\nLoading file C.R.C.,_c._220\nLoading file C.R.C.,_c._221\nLoading file C.R.C.,_c._223\n"
     ]
    },
    {
     "name": "stdout",
     "output_type": "stream",
     "text": [
      "Loading file C.R.C.,_c._224\nLoading file C.R.C.,_c._225\nLoading file C.R.C.,_c._226\nLoading file C.R.C.,_c._228\nLoading file C.R.C.,_c._229\nLoading file C.R.C.,_c._232\nLoading file C.R.C.,_c._233\nLoading file C.R.C.,_c._234\nLoading file C.R.C.,_c._235\nLoading file C.R.C.,_c._236\nLoading file C.R.C.,_c._237\nLoading file C.R.C.,_c._238\nLoading file C.R.C.,_c._239\nLoading file C.R.C.,_c._240\nLoading file C.R.C.,_c._243\nLoading file C.R.C.,_c._258\nLoading file C.R.C.,_c._259\nLoading file C.R.C.,_c._260\nLoading file C.R.C.,_c._268\nLoading file C.R.C.,_c._269\nLoading file C.R.C.,_c._270\nLoading file C.R.C.,_c._271\nLoading file C.R.C.,_c._272\n"
     ]
    },
    {
     "name": "stdout",
     "output_type": "stream",
     "text": [
      "Loading file C.R.C.,_c._273\nLoading file C.R.C.,_c._274\nLoading file C.R.C.,_c._275\nLoading file C.R.C.,_c._276\nLoading file C.R.C.,_c._277\nLoading file C.R.C.,_c._280\nLoading file C.R.C.,_c._281\nLoading file C.R.C.,_c._284\nLoading file C.R.C.,_c._285\n"
     ]
    },
    {
     "name": "stdout",
     "output_type": "stream",
     "text": [
      "Loading file C.R.C.,_c._287\nLoading file C.R.C.,_c._289\nLoading file C.R.C.,_c._290\n"
     ]
    },
    {
     "name": "stdout",
     "output_type": "stream",
     "text": [
      "Loading file C.R.C.,_c._291\n"
     ]
    },
    {
     "name": "stdout",
     "output_type": "stream",
     "text": [
      "Loading file C.R.C.,_c._296\n"
     ]
    },
    {
     "name": "stdout",
     "output_type": "stream",
     "text": [
      "Loading file C.R.C.,_c._316\nLoading file C.R.C.,_c._317\nLoading file C.R.C.,_c._319\nLoading file C.R.C.,_c._320\nLoading file C.R.C.,_c._322\nLoading file C.R.C.,_c._332\n"
     ]
    },
    {
     "name": "stdout",
     "output_type": "stream",
     "text": [
      "Loading file C.R.C.,_c._334\nLoading file C.R.C.,_c._335\nLoading file C.R.C.,_c._340\nLoading file C.R.C.,_c._342\nLoading file C.R.C.,_c._343\nLoading file C.R.C.,_c._345\nLoading file C.R.C.,_c._347\nLoading file C.R.C.,_c._348\nLoading file C.R.C.,_c._349\n"
     ]
    },
    {
     "name": "stdout",
     "output_type": "stream",
     "text": [
      "Loading file C.R.C.,_c._353\nLoading file C.R.C.,_c._354\nLoading file C.R.C.,_c._355\nLoading file C.R.C.,_c._356\nLoading file C.R.C.,_c._368\n"
     ]
    },
    {
     "name": "stdout",
     "output_type": "stream",
     "text": [
      "Loading file C.R.C.,_c._369\nLoading file C.R.C.,_c._375\nLoading file C.R.C.,_c._378\nLoading file C.R.C.,_c._385\n"
     ]
    },
    {
     "name": "stdout",
     "output_type": "stream",
     "text": [
      "Loading file C.R.C.,_c._386\nLoading file C.R.C.,_c._390\nLoading file C.R.C.,_c._391\nLoading file C.R.C.,_c._394\nLoading file C.R.C.,_c._395\nLoading file C.R.C.,_c._396\n"
     ]
    },
    {
     "name": "stdout",
     "output_type": "stream",
     "text": [
      "Loading file C.R.C.,_c._397\nLoading file C.R.C.,_c._398\nLoading file C.R.C.,_c._399\nLoading file C.R.C.,_c._4\nLoading file C.R.C.,_c._401\nLoading file C.R.C.,_c._407\nLoading file C.R.C.,_c._413\nLoading file C.R.C.,_c._416\n"
     ]
    },
    {
     "name": "stdout",
     "output_type": "stream",
     "text": [
      "Loading file C.R.C.,_c._417\nLoading file C.R.C.,_c._418\nLoading file C.R.C.,_c._421\nLoading file C.R.C.,_c._424\nLoading file C.R.C.,_c._425\nLoading file C.R.C.,_c._427\nLoading file C.R.C.,_c._430\nLoading file C.R.C.,_c._440\n"
     ]
    },
    {
     "name": "stdout",
     "output_type": "stream",
     "text": [
      "Loading file C.R.C.,_c._446\nLoading file C.R.C.,_c._448\nLoading file C.R.C.,_c._449\nLoading file C.R.C.,_c._450\nLoading file C.R.C.,_c._478\nLoading file C.R.C.,_c._487\n"
     ]
    },
    {
     "name": "stdout",
     "output_type": "stream",
     "text": [
      "Loading file C.R.C.,_c._489\nLoading file C.R.C.,_c._516\nLoading file C.R.C.,_c._517\nLoading file C.R.C.,_c._522\nLoading file C.R.C.,_c._533\nLoading file C.R.C.,_c._535\n"
     ]
    },
    {
     "name": "stdout",
     "output_type": "stream",
     "text": [
      "Loading file C.R.C.,_c._549\nLoading file C.R.C.,_c._554\nLoading file C.R.C.,_c._565\nLoading file C.R.C.,_c._566\nLoading file C.R.C.,_c._571\nLoading file C.R.C.,_c._590\nLoading file C.R.C.,_c._591\nLoading file C.R.C.,_c._594\nLoading file C.R.C.,_c._598\nLoading file C.R.C.,_c._599\n"
     ]
    },
    {
     "name": "stdout",
     "output_type": "stream",
     "text": [
      "Loading file C.R.C.,_c._603\nLoading file C.R.C.,_c._604\nLoading file C.R.C.,_c._606\nLoading file C.R.C.,_c._609\nLoading file C.R.C.,_c._611\n"
     ]
    },
    {
     "name": "stdout",
     "output_type": "stream",
     "text": [
      "Loading file C.R.C.,_c._612\nLoading file C.R.C.,_c._613\nLoading file C.R.C.,_c._616\nLoading file C.R.C.,_c._623\nLoading file C.R.C.,_c._625\nLoading file C.R.C.,_c._632\nLoading file C.R.C.,_c._640\nLoading file C.R.C.,_c._645\nLoading file C.R.C.,_c._646\nLoading file C.R.C.,_c._647\n"
     ]
    },
    {
     "name": "stdout",
     "output_type": "stream",
     "text": [
      "Loading file C.R.C.,_c._648\nLoading file C.R.C.,_c._654\nLoading file C.R.C.,_c._657\nLoading file C.R.C.,_c._658\nLoading file C.R.C.,_c._659\nLoading file C.R.C.,_c._660\nLoading file C.R.C.,_c._664\nLoading file C.R.C.,_c._666\nLoading file C.R.C.,_c._669\nLoading file C.R.C.,_c._670\nLoading file C.R.C.,_c._671\nLoading file C.R.C.,_c._672\nLoading file C.R.C.,_c._675\n"
     ]
    },
    {
     "name": "stdout",
     "output_type": "stream",
     "text": [
      "Loading file C.R.C.,_c._676\nLoading file C.R.C.,_c._679\nLoading file C.R.C.,_c._681\nLoading file C.R.C.,_c._682\nLoading file C.R.C.,_c._686\nLoading file C.R.C.,_c._687\nLoading file C.R.C.,_c._688\nLoading file C.R.C.,_c._689\nLoading file C.R.C.,_c._690\nLoading file C.R.C.,_c._691\nLoading file C.R.C.,_c._692\nLoading file C.R.C.,_c._698\nLoading file C.R.C.,_c._707\nLoading file C.R.C.,_c._708\nLoading file C.R.C.,_c._709\nLoading file C.R.C.,_c._710\nLoading file C.R.C.,_c._712\nLoading file C.R.C.,_c._713\nLoading file C.R.C.,_c._716\nLoading file C.R.C.,_c._719\nLoading file C.R.C.,_c._721\nLoading file C.R.C.,_c._722\n"
     ]
    },
    {
     "name": "stdout",
     "output_type": "stream",
     "text": [
      "Loading file C.R.C.,_c._723\nLoading file C.R.C.,_c._730\nLoading file C.R.C.,_c._731\nLoading file C.R.C.,_c._732\nLoading file C.R.C.,_c._734\nLoading file C.R.C.,_c._735\nLoading file C.R.C.,_c._736\nLoading file C.R.C.,_c._739\nLoading file C.R.C.,_c._743\nLoading file C.R.C.,_c._75\nLoading file C.R.C.,_c._751\nLoading file C.R.C.,_c._752\nLoading file C.R.C.,_c._754\nLoading file C.R.C.,_c._755\nLoading file C.R.C.,_c._756\nLoading file C.R.C.,_c._757\nLoading file C.R.C.,_c._758\nLoading file C.R.C.,_c._759\nLoading file C.R.C.,_c._762\nLoading file C.R.C.,_c._763\nLoading file C.R.C.,_c._767\nLoading file C.R.C.,_c._768\nLoading file C.R.C.,_c._77\n"
     ]
    },
    {
     "name": "stdout",
     "output_type": "stream",
     "text": [
      "Loading file C.R.C.,_c._770\nLoading file C.R.C.,_c._771\nLoading file C.R.C.,_c._772\nLoading file C.R.C.,_c._773\nLoading file C.R.C.,_c._778\nLoading file C.R.C.,_c._78\nLoading file C.R.C.,_c._780\nLoading file C.R.C.,_c._785\nLoading file C.R.C.,_c._786\nLoading file C.R.C.,_c._79\nLoading file C.R.C.,_c._790\n"
     ]
    },
    {
     "name": "stdout",
     "output_type": "stream",
     "text": [
      "Loading file C.R.C.,_c._791\nLoading file C.R.C.,_c._793\nLoading file C.R.C.,_c._794\nLoading file C.R.C.,_c._795\nLoading file C.R.C.,_c._797\nLoading file C.R.C.,_c._799\nLoading file C.R.C.,_c._80\nLoading file C.R.C.,_c._802\n"
     ]
    },
    {
     "name": "stdout",
     "output_type": "stream",
     "text": [
      "Loading file C.R.C.,_c._803\nLoading file C.R.C.,_c._81\nLoading file C.R.C.,_c._811\nLoading file C.R.C.,_c._812\nLoading file C.R.C.,_c._815\nLoading file C.R.C.,_c._818\nLoading file C.R.C.,_c._82\nLoading file C.R.C.,_c._828\n"
     ]
    },
    {
     "name": "stdout",
     "output_type": "stream",
     "text": [
      "Loading file C.R.C.,_c._829\nLoading file C.R.C.,_c._83\nLoading file C.R.C.,_c._836\nLoading file C.R.C.,_c._837\nLoading file C.R.C.,_c._84\nLoading file C.R.C.,_c._847\nLoading file C.R.C.,_c._854\n"
     ]
    },
    {
     "name": "stdout",
     "output_type": "stream",
     "text": [
      "Loading file C.R.C.,_c._864\nLoading file C.R.C.,_c._868\nLoading file C.R.C.,_c._869\nLoading file C.R.C.,_c._87\nLoading file C.R.C.,_c._870\n"
     ]
    },
    {
     "name": "stdout",
     "output_type": "stream",
     "text": [
      "Loading file C.R.C.,_c._879\nLoading file C.R.C.,_c._88\nLoading file C.R.C.,_c._880\nLoading file C.R.C.,_c._886\n"
     ]
    },
    {
     "name": "stdout",
     "output_type": "stream",
     "text": [
      "Loading file C.R.C.,_c._887\nLoading file C.R.C.,_c._889\nLoading file C.R.C.,_c._89\nLoading file C.R.C.,_c._890\nLoading file C.R.C.,_c._90\n"
     ]
    },
    {
     "name": "stdout",
     "output_type": "stream",
     "text": [
      "Loading file C.R.C.,_c._91\nLoading file C.R.C.,_c._910\nLoading file C.R.C.,_c._911\nLoading file C.R.C.,_c._915\nLoading file C.R.C.,_c._92\n"
     ]
    },
    {
     "name": "stdout",
     "output_type": "stream",
     "text": [
      "Loading file C.R.C.,_c._923\nLoading file C.R.C.,_c._924\nLoading file C.R.C.,_c._927\nLoading file C.R.C.,_c._929\nLoading file C.R.C.,_c._93\nLoading file C.R.C.,_c._930\nLoading file C.R.C.,_c._931\nLoading file C.R.C.,_c._932\nLoading file C.R.C.,_c._933\nLoading file C.R.C.,_c._934\nLoading file C.R.C.,_c._945\n"
     ]
    },
    {
     "name": "stdout",
     "output_type": "stream",
     "text": [
      "Loading file C.R.C.,_c._946\nLoading file C.R.C.,_c._948\nLoading file C.R.C.,_c._949\nLoading file C.R.C.,_c._95\nLoading file C.R.C.,_c._950\nLoading file C.R.C.,_c._952\nLoading file C.R.C.,_c._953\nLoading file C.R.C.,_c._954\nLoading file C.R.C.,_c._956\n"
     ]
    },
    {
     "name": "stdout",
     "output_type": "stream",
     "text": [
      "Loading file C.R.C.,_c._957\nLoading file C.R.C.,_c._959\nLoading file C.R.C.,_c._96\nLoading file C.R.C.,_c._960\nLoading file C.R.C.,_c._961\nLoading file C.R.C.,_c._966\nLoading file C.R.C.,_c._967\nLoading file C.R.C.,_c._968\nLoading file C.R.C.,_c._969\n"
     ]
    },
    {
     "name": "stdout",
     "output_type": "stream",
     "text": [
      "Loading file C.R.C.,_c._970\nLoading file C.R.C.,_c._971\nLoading file C.R.C.,_c._972\nLoading file C.R.C.,_c._98\nLoading file C.R.C.,_c._982\n"
     ]
    },
    {
     "name": "stdout",
     "output_type": "stream",
     "text": [
      "Loading file C.R.C.,_c._984\nLoading file C.R.C.,_c._985\nLoading file C.R.C.,_c._986\nLoading file C.R.C.,_c._987\n"
     ]
    },
    {
     "name": "stdout",
     "output_type": "stream",
     "text": [
      "Loading file C.R.C.,_c._99\nLoading file C.R.C.,_c._990\nLoading file C.R.C.,_c._991\nLoading file C.R.C.,_c._992\nLoading file SI-2000-100\nLoading file SI-2000-101\nLoading file SI-2000-102\nLoading file SI-2000-103\nLoading file SI-2000-104\nLoading file SI-2000-111\nLoading file SI-2000-16\nLoading file SI-2000-23\nLoading file SI-2000-33\nLoading file SI-2000-39\nLoading file SI-2000-53\nLoading file SI-2000-54\nLoading file SI-2000-69\nLoading file SI-2000-77\nLoading file SI-2000-82\n"
     ]
    },
    {
     "name": "stdout",
     "output_type": "stream",
     "text": [
      "Loading file SI-2000-84\nLoading file SI-2000-90\nLoading file SI-2000-99\nLoading file SI-2001-1\nLoading file SI-2001-109\nLoading file SI-2001-120\nLoading file SI-2001-23\nLoading file SI-2001-27\nLoading file SI-2001-28\nLoading file SI-2001-45\nLoading file SI-2001-47\nLoading file SI-2001-48\nLoading file SI-2001-50\nLoading file SI-2001-51\nLoading file SI-2001-60\nLoading file SI-2001-68\nLoading file SI-2001-69\n"
     ]
    },
    {
     "name": "stdout",
     "output_type": "stream",
     "text": [
      "Loading file SI-2001-72\nLoading file SI-2001-73\nLoading file SI-2001-74\nLoading file SI-2001-81\nLoading file SI-2001-93\nLoading file SI-2001-96\nLoading file SI-2001-99\nLoading file SI-2002-1\n"
     ]
    },
    {
     "name": "stdout",
     "output_type": "stream",
     "text": [
      "Loading file SI-2002-10\nLoading file SI-2002-123\nLoading file SI-2002-142\nLoading file SI-2002-154\nLoading file SI-2002-160\nLoading file SI-2002-46\nLoading file SI-2002-58\nLoading file SI-2002-60\nLoading file SI-2002-61\nLoading file SI-2002-62\nLoading file SI-2002-65\nLoading file SI-2002-75\nLoading file SI-2002-9\nLoading file SI-2002-96\n"
     ]
    },
    {
     "name": "stdout",
     "output_type": "stream",
     "text": [
      "Loading file SI-2003-103\nLoading file SI-2003-107\nLoading file SI-2003-112\nLoading file SI-2003-119\nLoading file SI-2003-122\nLoading file SI-2003-124\nLoading file SI-2003-130\nLoading file SI-2003-133\nLoading file SI-2003-134\n"
     ]
    },
    {
     "name": "stdout",
     "output_type": "stream",
     "text": [
      "Loading file SI-2003-146\nLoading file SI-2003-148\nLoading file SI-2003-149\nLoading file SI-2003-154\n"
     ]
    },
    {
     "name": "stdout",
     "output_type": "stream",
     "text": [
      "Loading file SI-2003-155\nLoading file SI-2003-156\nLoading file SI-2003-159\nLoading file SI-2003-164\nLoading file SI-2003-166\nLoading file SI-2003-171\nLoading file SI-2003-173\nLoading file SI-2003-188\nLoading file SI-2003-2\n"
     ]
    },
    {
     "name": "stdout",
     "output_type": "stream",
     "text": [
      "Loading file SI-2003-202\nLoading file SI-2003-203\nLoading file SI-2003-204\nLoading file SI-2003-208\nLoading file SI-2003-209\nLoading file SI-2003-210\nLoading file SI-2003-214\nLoading file SI-2003-215\nLoading file SI-2003-216\nLoading file SI-2003-217\nLoading file SI-2003-221\nLoading file SI-2003-222\nLoading file SI-2003-226\nLoading file SI-2003-227\nLoading file SI-2003-228\nLoading file SI-2003-229\nLoading file SI-2003-230\nLoading file SI-2003-231\nLoading file SI-2003-232\nLoading file SI-2003-233\nLoading file SI-2003-240\nLoading file SI-2003-244\nLoading file SI-2003-36\n"
     ]
    },
    {
     "name": "stdout",
     "output_type": "stream",
     "text": [
      "Loading file SI-2003-38\nLoading file SI-2003-4\nLoading file SI-2003-42\nLoading file SI-2003-5\n"
     ]
    },
    {
     "name": "stdout",
     "output_type": "stream",
     "text": [
      "Loading file SI-2003-58\nLoading file SI-2003-6\nLoading file SI-2003-93\nLoading file SI-2004-100\nLoading file SI-2004-101\nLoading file SI-2004-102\nLoading file SI-2004-103\nLoading file SI-2004-109\nLoading file SI-2004-112\nLoading file SI-2004-122\nLoading file SI-2004-123\nLoading file SI-2004-13\nLoading file SI-2004-132\nLoading file SI-2004-133\nLoading file SI-2004-134\n"
     ]
    },
    {
     "name": "stdout",
     "output_type": "stream",
     "text": [
      "Loading file SI-2004-135\nLoading file SI-2004-136\nLoading file SI-2004-138\nLoading file SI-2004-14\nLoading file SI-2004-148\nLoading file SI-2004-153\nLoading file SI-2004-155\nLoading file SI-2004-16\nLoading file SI-2004-164\nLoading file SI-2004-34\n"
     ]
    },
    {
     "name": "stdout",
     "output_type": "stream",
     "text": [
      "Loading file SI-2004-35\nLoading file SI-2004-36\nLoading file SI-2004-41\nLoading file SI-2004-43\nLoading file SI-2004-44\nLoading file SI-2004-48\nLoading file SI-2004-55\nLoading file SI-2004-6\nLoading file SI-2004-7\nLoading file SI-2004-8\nLoading file SI-2004-86\nLoading file SI-2004-87\nLoading file SI-2004-88\nLoading file SI-2004-90\nLoading file SI-2005-106\nLoading file SI-2005-113\nLoading file SI-2005-114\nLoading file SI-2005-115\nLoading file SI-2005-118\n"
     ]
    },
    {
     "name": "stdout",
     "output_type": "stream",
     "text": [
      "Loading file SI-2005-120\nLoading file SI-2005-124\nLoading file SI-2005-125\nLoading file SI-2005-127\nLoading file SI-2005-128\nLoading file SI-2005-17\nLoading file SI-2005-2\nLoading file SI-2005-48\nLoading file SI-2005-50\nLoading file SI-2005-55\nLoading file SI-2005-59\nLoading file SI-2005-65\nLoading file SI-2005-71\nLoading file SI-2005-72\nLoading file SI-2005-73\nLoading file SI-2005-8\nLoading file SI-2005-83\nLoading file SI-2005-86\nLoading file SI-2005-87\n"
     ]
    },
    {
     "name": "stdout",
     "output_type": "stream",
     "text": [
      "Loading file SI-2005-9\nLoading file SI-2005-91\nLoading file SI-2006-10\nLoading file SI-2006-100\nLoading file SI-2006-101\nLoading file SI-2006-109\nLoading file SI-2006-11\nLoading file SI-2006-110\nLoading file SI-2006-121\nLoading file SI-2006-122\n"
     ]
    },
    {
     "name": "stdout",
     "output_type": "stream",
     "text": [
      "Loading file SI-2006-123\nLoading file SI-2006-124\nLoading file SI-2006-128\nLoading file SI-2006-133\nLoading file SI-2006-134\nLoading file SI-2006-135\nLoading file SI-2006-137\nLoading file SI-2006-141\nLoading file SI-2006-142\n"
     ]
    },
    {
     "name": "stdout",
     "output_type": "stream",
     "text": [
      "Loading file SI-2006-144\nLoading file SI-2006-16\nLoading file SI-2006-17\nLoading file SI-2006-18\nLoading file SI-2006-22\nLoading file SI-2006-23\nLoading file SI-2006-26\nLoading file SI-2006-27\nLoading file SI-2006-28\nLoading file SI-2006-29\nLoading file SI-2006-30\nLoading file SI-2006-31\nLoading file SI-2006-32\nLoading file SI-2006-37\nLoading file SI-2006-38\nLoading file SI-2006-39\nLoading file SI-2006-4\nLoading file SI-2006-40\nLoading file SI-2006-45\nLoading file SI-2006-46\nLoading file SI-2006-47\n"
     ]
    },
    {
     "name": "stdout",
     "output_type": "stream",
     "text": [
      "Loading file SI-2006-51\nLoading file SI-2006-60\nLoading file SI-2006-61\nLoading file SI-2006-62\nLoading file SI-2006-63\nLoading file SI-2006-64\nLoading file SI-2006-69\nLoading file SI-2006-71\nLoading file SI-2006-72\nLoading file SI-2006-73\nLoading file SI-2006-74\nLoading file SI-2006-75\nLoading file SI-2006-76\nLoading file SI-2006-77\nLoading file SI-2006-79\nLoading file SI-2006-80\nLoading file SI-2006-85\nLoading file SI-2006-89\nLoading file SI-2006-97\nLoading file SI-2006-98\nLoading file SI-2007-101\nLoading file SI-2007-102\nLoading file SI-2007-103\nLoading file SI-2007-115\n"
     ]
    },
    {
     "name": "stdout",
     "output_type": "stream",
     "text": [
      "Loading file SI-2007-13\nLoading file SI-2007-14\nLoading file SI-2007-31\nLoading file SI-2007-37\nLoading file SI-2007-57\nLoading file SI-2007-61\nLoading file SI-2007-68\nLoading file SI-2007-69\nLoading file SI-2007-80\nLoading file SI-2007-87\nLoading file SI-2008-101\nLoading file SI-2008-102\nLoading file SI-2008-103\nLoading file SI-2008-104\nLoading file SI-2008-136\nLoading file SI-2008-143\nLoading file SI-2008-148\nLoading file SI-2008-15\nLoading file SI-2008-16\nLoading file SI-2008-20\nLoading file SI-2008-23\nLoading file SI-2008-25\n"
     ]
    },
    {
     "name": "stdout",
     "output_type": "stream",
     "text": [
      "Loading file SI-2008-26\nLoading file SI-2008-27\nLoading file SI-2008-28\nLoading file SI-2008-53\nLoading file SI-2008-55\nLoading file SI-2008-69\nLoading file SI-2008-70\nLoading file SI-2008-95\nLoading file SI-2008-99\nLoading file SI-2009-103\nLoading file SI-2009-104\nLoading file SI-2009-110\nLoading file SI-2009-20\nLoading file SI-2009-22\nLoading file SI-2009-23\nLoading file SI-2009-24\nLoading file SI-2009-3\n"
     ]
    },
    {
     "name": "stdout",
     "output_type": "stream",
     "text": [
      "Loading file SI-2009-45\nLoading file SI-2009-46\nLoading file SI-2009-61\nLoading file SI-2009-73\nLoading file SI-2009-87\nLoading file SI-2009-94\nLoading file SI-2009-95\nLoading file SI-2010-10\nLoading file SI-2010-13\nLoading file SI-2010-14\n"
     ]
    },
    {
     "name": "stdout",
     "output_type": "stream",
     "text": [
      "Loading file SI-2010-18\nLoading file SI-2010-42\nLoading file SI-2010-45\nLoading file SI-2010-46\nLoading file SI-2010-54\nLoading file SI-2010-76\nLoading file SI-2010-81\nLoading file SI-2010-83\nLoading file SI-2010-84\nLoading file SI-2010-90\nLoading file SI-2011-100\nLoading file SI-2011-109\nLoading file SI-2011-11\nLoading file SI-2011-111\n"
     ]
    },
    {
     "name": "stdout",
     "output_type": "stream",
     "text": [
      "Loading file SI-2011-14\nLoading file SI-2011-20\nLoading file SI-2011-48\nLoading file SI-2011-56\n"
     ]
    },
    {
     "name": "stdout",
     "output_type": "stream",
     "text": [
      "Loading file SI-2011-58\nLoading file SI-2011-59\nLoading file SI-2011-60\nLoading file SI-2011-66\nLoading file SI-2011-67\nLoading file SI-2011-68\nLoading file SI-2011-69\nLoading file SI-2011-77\nLoading file SI-2011-78\nLoading file SI-2011-89\nLoading file SI-2011-9\nLoading file SI-2011-90\n"
     ]
    },
    {
     "name": "stdout",
     "output_type": "stream",
     "text": [
      "Loading file SI-2011-91\nLoading file SI-2011-92\nLoading file SI-2011-93\nLoading file SI-2011-94\nLoading file SI-2011-95\nLoading file SI-2011-96\nLoading file SI-2012-103\nLoading file SI-2012-12\nLoading file SI-2012-16\nLoading file SI-2012-17\nLoading file SI-2012-20\nLoading file SI-2012-23\nLoading file SI-2012-24\nLoading file SI-2012-25\nLoading file SI-2012-26\nLoading file SI-2012-27\n"
     ]
    },
    {
     "name": "stdout",
     "output_type": "stream",
     "text": [
      "Loading file SI-2012-30\nLoading file SI-2012-39\nLoading file SI-2012-43\nLoading file SI-2012-45\nLoading file SI-2012-46\nLoading file SI-2012-50\nLoading file SI-2012-58\nLoading file SI-2012-59\nLoading file SI-2012-60\nLoading file SI-2012-64\nLoading file SI-2012-7\n"
     ]
    },
    {
     "name": "stdout",
     "output_type": "stream",
     "text": [
      "Loading file SI-2012-72\nLoading file SI-2012-76\nLoading file SI-2012-78\nLoading file SI-2012-80\nLoading file SI-2012-81\nLoading file SI-2012-82\nLoading file SI-2012-83\nLoading file SI-2012-9\nLoading file SI-2013-1\nLoading file SI-2013-102\n"
     ]
    },
    {
     "name": "stdout",
     "output_type": "stream",
     "text": [
      "Loading file SI-2013-106\nLoading file SI-2013-109\nLoading file SI-2013-110\nLoading file SI-2013-114\nLoading file SI-2013-125\nLoading file SI-2013-126\nLoading file SI-2013-129\nLoading file SI-2013-27\nLoading file SI-2013-28\n"
     ]
    },
    {
     "name": "stdout",
     "output_type": "stream",
     "text": [
      "Loading file SI-2013-29\nLoading file SI-2013-3\nLoading file SI-2013-30\nLoading file SI-2013-40\nLoading file SI-2013-41\nLoading file SI-2013-43\nLoading file SI-2013-51\nLoading file SI-2013-53\nLoading file SI-2013-56\nLoading file SI-2013-59\nLoading file SI-2013-6\nLoading file SI-2013-62\nLoading file SI-2013-63\nLoading file SI-2013-64\nLoading file SI-2013-7\nLoading file SI-2013-87\nLoading file SI-2013-90\nLoading file SI-2013-96\nLoading file SI-2014-109\n"
     ]
    },
    {
     "name": "stdout",
     "output_type": "stream",
     "text": [
      "Loading file SI-2014-11\nLoading file SI-2014-13\nLoading file SI-2014-15\nLoading file SI-2014-19\nLoading file SI-2014-21\nLoading file SI-2014-27\nLoading file SI-2014-30\nLoading file SI-2014-35\nLoading file SI-2014-36\nLoading file SI-2014-37\nLoading file SI-2014-38\nLoading file SI-2014-39\n"
     ]
    },
    {
     "name": "stdout",
     "output_type": "stream",
     "text": [
      "Loading file SI-2014-41\nLoading file SI-2014-54\nLoading file SI-2014-55\nLoading file SI-2014-56\nLoading file SI-2014-63\nLoading file SI-2014-67\nLoading file SI-2014-73\nLoading file SI-2014-76\nLoading file SI-2014-89\n"
     ]
    },
    {
     "name": "stdout",
     "output_type": "stream",
     "text": [
      "Loading file SI-2015-100\nLoading file SI-2015-101\nLoading file SI-2015-102\nLoading file SI-2015-103\nLoading file SI-2015-104\nLoading file SI-2015-105\nLoading file SI-2015-106\nLoading file SI-2015-107\nLoading file SI-2015-108\nLoading file SI-2015-109\nLoading file SI-2015-110\nLoading file SI-2015-111\nLoading file SI-2015-112\nLoading file SI-2015-114\n"
     ]
    },
    {
     "name": "stdout",
     "output_type": "stream",
     "text": [
      "Loading file SI-2015-13\nLoading file SI-2015-15\nLoading file SI-2015-2\nLoading file SI-2015-24\nLoading file SI-2015-3\nLoading file SI-2015-35\nLoading file SI-2015-39\nLoading file SI-2015-45\nLoading file SI-2015-52\nLoading file SI-2015-62\nLoading file SI-2015-72\nLoading file SI-2015-74\nLoading file SI-2015-81\n"
     ]
    },
    {
     "name": "stdout",
     "output_type": "stream",
     "text": [
      "Loading file SI-2015-82\nLoading file SI-2015-93\nLoading file SI-2015-94\nLoading file SI-2015-95\nLoading file SI-2015-96\nLoading file SI-2015-97\nLoading file SI-2015-98\nLoading file SI-2015-99\nLoading file SI-2016-18\nLoading file SI-2016-19\n"
     ]
    },
    {
     "name": "stdout",
     "output_type": "stream",
     "text": [
      "Loading file SI-2016-20\nLoading file SI-2016-21\nLoading file SI-2016-29\nLoading file SI-2016-31\nLoading file SI-2016-32\nLoading file SI-2016-34\n"
     ]
    },
    {
     "name": "stdout",
     "output_type": "stream",
     "text": [
      "Loading file SI-2016-39\nLoading file SI-2016-40\nLoading file SI-2016-43\nLoading file SI-2016-44\n"
     ]
    },
    {
     "name": "stdout",
     "output_type": "stream",
     "text": [
      "Loading file SI-2016-45\nLoading file SI-2016-46\nLoading file SI-2016-48\nLoading file SI-2016-49\nLoading file SI-2016-55\nLoading file SI-2016-63\nLoading file SI-2016-71\nLoading file SI-2016-8\nLoading file SI-2017-10\n"
     ]
    },
    {
     "name": "stdout",
     "output_type": "stream",
     "text": [
      "Loading file SI-2017-11\nLoading file SI-2017-12\nLoading file SI-2017-15\nLoading file SI-2017-17\nLoading file SI-2017-24\nLoading file SI-2017-25\nLoading file SI-2017-29\nLoading file SI-2017-30\nLoading file SI-2017-35\nLoading file SI-2017-36\nLoading file SI-2017-4\nLoading file SI-2017-40\nLoading file SI-2017-41\n"
     ]
    },
    {
     "name": "stdout",
     "output_type": "stream",
     "text": [
      "Loading file SI-2017-45\nLoading file SI-2017-46\nLoading file SI-2017-49\nLoading file SI-2017-5\nLoading file SI-2017-50\nLoading file SI-2017-55\nLoading file SI-2017-56\nLoading file SI-2017-6\nLoading file SI-2017-61\nLoading file SI-2017-64\nLoading file SI-2017-7\nLoading file SI-2017-71\nLoading file SI-2017-72\nLoading file SI-2017-74\n"
     ]
    },
    {
     "name": "stdout",
     "output_type": "stream",
     "text": [
      "Loading file SI-2017-75\nLoading file SI-2017-76\nLoading file SI-2017-77\nLoading file SI-2017-78\nLoading file SI-2017-79\nLoading file SI-2017-8\nLoading file SI-2017-9\nLoading file SI-2018-13\nLoading file SI-2018-14\nLoading file SI-2018-16\nLoading file SI-2018-17\nLoading file SI-2018-20\nLoading file SI-2018-30\nLoading file SI-2018-33\nLoading file SI-2018-34\n"
     ]
    },
    {
     "name": "stdout",
     "output_type": "stream",
     "text": [
      "Loading file SI-2018-40\nLoading file SI-2018-43\nLoading file SI-2018-44\nLoading file SI-2018-51\n"
     ]
    },
    {
     "name": "stdout",
     "output_type": "stream",
     "text": [
      "Loading file SI-2018-55\nLoading file SI-2018-58\nLoading file SI-2018-59\nLoading file SI-2018-60\nLoading file SI-2018-61\nLoading file SI-2018-62\nLoading file SI-2018-63\nLoading file SI-2018-66\nLoading file SI-2018-67\nLoading file SI-2018-68\nLoading file SI-2018-69\nLoading file SI-2018-70\nLoading file SI-2018-71\nLoading file SI-2018-72\nLoading file SI-2018-73\nLoading file SI-2018-74\nLoading file SI-2018-75\nLoading file SI-2018-76\nLoading file SI-2018-77\nLoading file SI-2018-78\nLoading file SI-2018-79\nLoading file SI-2018-80\nLoading file SI-2018-86\nLoading file SI-2018-88\nLoading file SI-2018-89\nLoading file SI-2018-90\nLoading file SI-2018-91\n"
     ]
    },
    {
     "name": "stdout",
     "output_type": "stream",
     "text": [
      "Loading file SI-2018-96\nLoading file SI-45-7421\nLoading file SI-76-31\nLoading file SI-76-44\nLoading file SI-77-174\n"
     ]
    },
    {
     "name": "stdout",
     "output_type": "stream",
     "text": [
      "Loading file SI-78-162\nLoading file SI-78-165\nLoading file SI-78-179\nLoading file SI-78-57\nLoading file SI-78-65\nLoading file SI-78-75\nLoading file SI-79-10\nLoading file SI-79-19\nLoading file SI-79-2\nLoading file SI-79-39\nLoading file SI-79-40\n"
     ]
    },
    {
     "name": "stdout",
     "output_type": "stream",
     "text": [
      "Loading file SI-79-7\nLoading file SI-79-72\nLoading file SI-79-73\nLoading file SI-80-108\nLoading file SI-80-11\nLoading file SI-80-114\nLoading file SI-80-117\nLoading file SI-80-125\nLoading file SI-80-127\n"
     ]
    },
    {
     "name": "stdout",
     "output_type": "stream",
     "text": [
      "Loading file SI-80-128\nLoading file SI-80-129\nLoading file SI-80-176\nLoading file SI-80-8\nLoading file SI-81-105\nLoading file SI-81-11\n"
     ]
    },
    {
     "name": "stdout",
     "output_type": "stream",
     "text": [
      "Loading file SI-81-124\nLoading file SI-81-125\nLoading file SI-81-16\nLoading file SI-81-19\nLoading file SI-81-21\n"
     ]
    },
    {
     "name": "stdout",
     "output_type": "stream",
     "text": [
      "Loading file SI-81-22\nLoading file SI-81-23\n"
     ]
    },
    {
     "name": "stdout",
     "output_type": "stream",
     "text": [
      "Loading file SI-81-27\nLoading file SI-81-28\nLoading file SI-81-48\nLoading file SI-81-61\nLoading file SI-81-81\nLoading file SI-81-86\n"
     ]
    },
    {
     "name": "stdout",
     "output_type": "stream",
     "text": [
      "Loading file SI-81-90\nLoading file SI-81-97\nLoading file SI-82-104\nLoading file SI-82-105\nLoading file SI-82-13\nLoading file SI-82-131\nLoading file SI-82-197\nLoading file SI-82-221\nLoading file SI-82-229\nLoading file SI-82-246\nLoading file SI-82-30\n"
     ]
    },
    {
     "name": "stdout",
     "output_type": "stream",
     "text": [
      "Loading file SI-82-38\nLoading file SI-82-42\nLoading file SI-82-73\nLoading file SI-83-108\nLoading file SI-83-109\nLoading file SI-83-113\nLoading file SI-83-114\nLoading file SI-83-151\nLoading file SI-83-166\nLoading file SI-83-178\nLoading file SI-83-207\n"
     ]
    },
    {
     "name": "stdout",
     "output_type": "stream",
     "text": [
      "Loading file SI-83-217\nLoading file SI-83-221\nLoading file SI-83-32\nLoading file SI-83-72\nLoading file SI-83-80\nLoading file SI-83-88\nLoading file SI-83-96\nLoading file SI-84-134\nLoading file SI-84-167\nLoading file SI-84-35\nLoading file SI-84-38\nLoading file SI-84-50\nLoading file SI-84-51\nLoading file SI-84-62\nLoading file SI-84-77\nLoading file SI-85-108\nLoading file SI-85-122\nLoading file SI-85-133\nLoading file SI-85-136\nLoading file SI-85-138\nLoading file SI-85-142\nLoading file SI-85-144\nLoading file SI-85-181\nLoading file SI-85-182\n"
     ]
    },
    {
     "name": "stdout",
     "output_type": "stream",
     "text": [
      "Loading file SI-85-20\nLoading file SI-85-200\nLoading file SI-85-201\nLoading file SI-85-202\nLoading file SI-85-214\nLoading file SI-85-215\nLoading file SI-85-219\nLoading file SI-85-25\nLoading file SI-85-37\nLoading file SI-85-70\nLoading file SI-85-94\nLoading file SI-86-137\n"
     ]
    },
    {
     "name": "stdout",
     "output_type": "stream",
     "text": [
      "Loading file SI-86-138\nLoading file SI-86-139\nLoading file SI-86-140\nLoading file SI-86-150\nLoading file SI-86-158\nLoading file SI-86-161\nLoading file SI-86-177\nLoading file SI-86-216\nLoading file SI-86-31\nLoading file SI-86-41\nLoading file SI-86-45\nLoading file SI-86-61\nLoading file SI-86-64\nLoading file SI-86-78\nLoading file SI-86-79\nLoading file SI-86-91\nLoading file SI-87-102\nLoading file SI-87-116\nLoading file SI-87-152\nLoading file SI-87-210\nLoading file SI-87-26\nLoading file SI-87-28\n"
     ]
    },
    {
     "name": "stdout",
     "output_type": "stream",
     "text": [
      "Loading file SI-87-36\nLoading file SI-87-93\nLoading file SI-88-106\nLoading file SI-88-112\nLoading file SI-88-116\nLoading file SI-88-122\nLoading file SI-88-127\nLoading file SI-88-129\nLoading file SI-88-130\nLoading file SI-88-137\nLoading file SI-88-138\nLoading file SI-88-183\nLoading file SI-88-188\nLoading file SI-88-189\nLoading file SI-88-227\n"
     ]
    },
    {
     "name": "stdout",
     "output_type": "stream",
     "text": [
      "Loading file SI-88-228\nLoading file SI-88-239\nLoading file SI-88-246\nLoading file SI-88-41\nLoading file SI-88-46\nLoading file SI-88-47\nLoading file SI-88-50\nLoading file SI-88-6\nLoading file SI-88-68\nLoading file SI-88-98\nLoading file SI-89-103\nLoading file SI-89-104\nLoading file SI-89-121\nLoading file SI-89-122\nLoading file SI-89-123\nLoading file SI-89-125\nLoading file SI-89-128\nLoading file SI-89-132\nLoading file SI-89-140\n"
     ]
    },
    {
     "name": "stdout",
     "output_type": "stream",
     "text": [
      "Loading file SI-89-147\nLoading file SI-89-151\nLoading file SI-89-157\nLoading file SI-89-172\nLoading file SI-89-214\nLoading file SI-89-215\nLoading file SI-89-217\nLoading file SI-89-231\nLoading file SI-89-51\nLoading file SI-89-98\nLoading file SI-90-11\nLoading file SI-90-111\nLoading file SI-90-114\nLoading file SI-90-115\nLoading file SI-90-116\nLoading file SI-90-117\nLoading file SI-90-118\n"
     ]
    },
    {
     "name": "stdout",
     "output_type": "stream",
     "text": [
      "Loading file SI-90-15\nLoading file SI-90-153\nLoading file SI-90-155\nLoading file SI-90-156\nLoading file SI-90-163\nLoading file SI-90-29\nLoading file SI-90-33\nLoading file SI-90-39\nLoading file SI-90-52\nLoading file SI-90-73\n"
     ]
    },
    {
     "name": "stdout",
     "output_type": "stream",
     "text": [
      "Loading file SI-90-8\nLoading file SI-90-89\nLoading file SI-90-95\nLoading file SI-91-10\nLoading file SI-91-104\nLoading file SI-91-108\nLoading file SI-91-11\nLoading file SI-91-110\nLoading file SI-91-115\n"
     ]
    },
    {
     "name": "stdout",
     "output_type": "stream",
     "text": [
      "Loading file SI-91-124\nLoading file SI-91-13\nLoading file SI-91-137\nLoading file SI-91-146\nLoading file SI-91-153\nLoading file SI-91-155\nLoading file SI-91-21\nLoading file SI-91-35\nLoading file SI-91-52\nLoading file SI-91-53\nLoading file SI-91-6\nLoading file SI-91-65\nLoading file SI-91-66\nLoading file SI-91-71\nLoading file SI-91-84\nLoading file SI-91-89\nLoading file SI-91-9\n"
     ]
    },
    {
     "name": "stdout",
     "output_type": "stream",
     "text": [
      "Loading file SI-92-102\nLoading file SI-92-106\nLoading file SI-92-107\nLoading file SI-92-109\nLoading file SI-92-110\nLoading file SI-92-111\nLoading file SI-92-119\nLoading file SI-92-131\nLoading file SI-92-133\nLoading file SI-92-139\nLoading file SI-92-147\nLoading file SI-92-158\nLoading file SI-92-168\n"
     ]
    },
    {
     "name": "stdout",
     "output_type": "stream",
     "text": [
      "Loading file SI-92-169\nLoading file SI-92-180\nLoading file SI-92-181\nLoading file SI-92-2\nLoading file SI-92-202\nLoading file SI-92-205\nLoading file SI-92-209\nLoading file SI-92-210\nLoading file SI-92-222\nLoading file SI-92-228\nLoading file SI-92-28\nLoading file SI-92-35\nLoading file SI-92-39\nLoading file SI-92-41\nLoading file SI-92-42\nLoading file SI-92-43\nLoading file SI-92-53\nLoading file SI-92-73\n"
     ]
    },
    {
     "name": "stdout",
     "output_type": "stream",
     "text": [
      "Loading file SI-92-74\nLoading file SI-92-96\nLoading file SI-92-97\nLoading file SI-92-98\nLoading file SI-92-99\nLoading file SI-93-10\nLoading file SI-93-104\nLoading file SI-93-108\nLoading file SI-93-111\nLoading file SI-93-112\nLoading file SI-93-113\nLoading file SI-93-117\nLoading file SI-93-126\nLoading file SI-93-138\nLoading file SI-93-140\nLoading file SI-93-141\nLoading file SI-93-142\nLoading file SI-93-144\nLoading file SI-93-145\nLoading file SI-93-146\nLoading file SI-93-150\nLoading file SI-93-166\nLoading file SI-93-167\nLoading file SI-93-169\n"
     ]
    },
    {
     "name": "stdout",
     "output_type": "stream",
     "text": [
      "Loading file SI-93-170\nLoading file SI-93-173\nLoading file SI-93-174\nLoading file SI-93-200\nLoading file SI-93-201\nLoading file SI-93-202\nLoading file SI-93-203\nLoading file SI-93-225\nLoading file SI-93-227\nLoading file SI-93-228\nLoading file SI-93-229\nLoading file SI-93-232\nLoading file SI-93-234\nLoading file SI-93-235\nLoading file SI-93-238\nLoading file SI-93-240\nLoading file SI-93-255\nLoading file SI-93-27\nLoading file SI-93-30\n"
     ]
    },
    {
     "name": "stdout",
     "output_type": "stream",
     "text": [
      "Loading file SI-93-32\nLoading file SI-93-42\nLoading file SI-93-44\nLoading file SI-93-52\nLoading file SI-93-53\nLoading file SI-93-76\nLoading file SI-93-8\nLoading file SI-93-80\nLoading file SI-93-81\nLoading file SI-93-98\nLoading file SI-94-106\nLoading file SI-94-113\nLoading file SI-94-130\nLoading file SI-94-143\n"
     ]
    },
    {
     "name": "stdout",
     "output_type": "stream",
     "text": [
      "Loading file SI-94-147\nLoading file SI-94-18\nLoading file SI-94-28\nLoading file SI-94-34\nLoading file SI-94-39\nLoading file SI-94-4\nLoading file SI-94-47\nLoading file SI-94-5\nLoading file SI-94-56\nLoading file SI-94-57\nLoading file SI-94-6\n"
     ]
    },
    {
     "name": "stdout",
     "output_type": "stream",
     "text": [
      "Loading file SI-94-61\nLoading file SI-94-62\nLoading file SI-94-70\nLoading file SI-94-71\nLoading file SI-94-8\nLoading file SI-94-87\nLoading file SI-95-102\nLoading file SI-95-112\nLoading file SI-95-118\nLoading file SI-95-122\nLoading file SI-95-126\n"
     ]
    },
    {
     "name": "stdout",
     "output_type": "stream",
     "text": [
      "Loading file SI-95-2\nLoading file SI-95-21\nLoading file SI-95-22\nLoading file SI-95-23\nLoading file SI-95-33\nLoading file SI-95-35\nLoading file SI-95-36\nLoading file SI-95-42\nLoading file SI-95-44\nLoading file SI-95-45\nLoading file SI-95-46\nLoading file SI-95-47\nLoading file SI-95-49\nLoading file SI-95-52\nLoading file SI-95-56\nLoading file SI-95-59\nLoading file SI-95-62\nLoading file SI-95-64\nLoading file SI-95-66\n"
     ]
    },
    {
     "name": "stdout",
     "output_type": "stream",
     "text": [
      "Loading file SI-95-68\nLoading file SI-95-69\nLoading file SI-95-79\nLoading file SI-95-85\nLoading file SI-96-100\nLoading file SI-96-120\nLoading file SI-96-16\nLoading file SI-96-22\nLoading file SI-96-24\nLoading file SI-96-31\nLoading file SI-96-32\n"
     ]
    },
    {
     "name": "stdout",
     "output_type": "stream",
     "text": [
      "Loading file SI-96-36\nLoading file SI-96-49\nLoading file SI-96-52\nLoading file SI-96-55\nLoading file SI-96-66\nLoading file SI-96-80\nLoading file SI-96-82\nLoading file SI-96-84\nLoading file SI-96-85\nLoading file SI-96-87\nLoading file SI-96-96\nLoading file SI-97-104\nLoading file SI-97-111\nLoading file SI-97-127\nLoading file SI-97-133\nLoading file SI-97-134\nLoading file SI-97-140\n"
     ]
    },
    {
     "name": "stdout",
     "output_type": "stream",
     "text": [
      "Loading file SI-97-32\nLoading file SI-97-48\nLoading file SI-97-49\nLoading file SI-97-5\nLoading file SI-97-93\nLoading file SI-97-96\nLoading file SI-98-103\nLoading file SI-98-120\n"
     ]
    },
    {
     "name": "stdout",
     "output_type": "stream",
     "text": [
      "Loading file SI-98-3\nLoading file SI-98-4\nLoading file SI-98-49\nLoading file SI-98-50\nLoading file SI-98-51\nLoading file SI-98-55\nLoading file SI-98-57\nLoading file SI-98-59\nLoading file SI-98-62\n"
     ]
    },
    {
     "name": "stdout",
     "output_type": "stream",
     "text": [
      "Loading file SI-98-78\nLoading file SI-98-8\nLoading file SI-98-81\n"
     ]
    },
    {
     "name": "stdout",
     "output_type": "stream",
     "text": [
      "Loading file SI-98-89\nLoading file SI-98-90\nLoading file SI-98-91\nLoading file SI-98-92\nLoading file SI-98-94\nLoading file SI-98-97\n"
     ]
    },
    {
     "name": "stdout",
     "output_type": "stream",
     "text": [
      "Loading file SI-99-10\nLoading file SI-99-104\nLoading file SI-99-11\nLoading file SI-99-128\nLoading file SI-99-130\nLoading file SI-99-139\nLoading file SI-99-140\nLoading file SI-99-19\n"
     ]
    },
    {
     "name": "stdout",
     "output_type": "stream",
     "text": [
      "Loading file SI-99-21\nLoading file SI-99-32\n"
     ]
    },
    {
     "name": "stdout",
     "output_type": "stream",
     "text": [
      "Loading file SI-99-42\nLoading file SI-99-47\nLoading file SI-99-49\nLoading file SI-99-50\nLoading file SI-99-53\n"
     ]
    },
    {
     "name": "stdout",
     "output_type": "stream",
     "text": [
      "Loading file SI-99-58\nLoading file SI-99-60\nLoading file SI-99-76\nLoading file SI-99-77\nLoading file SI-99-79\nLoading file SI-99-80\nLoading file SI-99-81\nLoading file SI-99-82\nLoading file SI-99-9\nLoading file SI-99-99\nLoading file SOR-2000-1\n"
     ]
    },
    {
     "name": "stdout",
     "output_type": "stream",
     "text": [
      "Loading file SOR-2000-100\nLoading file SOR-2000-107\nLoading file SOR-2000-108\nLoading file SOR-2000-111\nLoading file SOR-2000-112\nLoading file SOR-2000-113\nLoading file SOR-2000-131\nLoading file SOR-2000-132\nLoading file SOR-2000-14\nLoading file SOR-2000-141\nLoading file SOR-2000-142\n"
     ]
    },
    {
     "name": "stdout",
     "output_type": "stream",
     "text": [
      "Loading file SOR-2000-143\nLoading file SOR-2000-177\nLoading file SOR-2000-181\nLoading file SOR-2000-187\nLoading file SOR-2000-202\nLoading file SOR-2000-203\nLoading file SOR-2000-204\n"
     ]
    },
    {
     "name": "stdout",
     "output_type": "stream",
     "text": [
      "Loading file SOR-2000-205\nLoading file SOR-2000-206\nLoading file SOR-2000-207\n"
     ]
    },
    {
     "name": "stdout",
     "output_type": "stream",
     "text": [
      "Loading file SOR-2000-208\nLoading file SOR-2000-209\nLoading file SOR-2000-210\n"
     ]
    },
    {
     "name": "stdout",
     "output_type": "stream",
     "text": [
      "Loading file SOR-2000-211\nLoading file SOR-2000-212\nLoading file SOR-2000-214\nLoading file SOR-2000-217\n"
     ]
    },
    {
     "name": "stdout",
     "output_type": "stream",
     "text": [
      "Loading file SOR-2000-228\nLoading file SOR-2000-230\nLoading file SOR-2000-233\nLoading file SOR-2000-253\nLoading file SOR-2000-260\nLoading file SOR-2000-265\n"
     ]
    },
    {
     "name": "stdout",
     "output_type": "stream",
     "text": [
      "Loading file SOR-2000-272\nLoading file SOR-2000-273\nLoading file SOR-2000-277\nLoading file SOR-2000-283\nLoading file SOR-2000-294\n"
     ]
    },
    {
     "name": "stdout",
     "output_type": "stream",
     "text": [
      "Loading file SOR-2000-300\nLoading file SOR-2000-303\nLoading file SOR-2000-306\nLoading file SOR-2000-324\nLoading file SOR-2000-375\nLoading file SOR-2000-376\nLoading file SOR-2000-387\nLoading file SOR-2000-418\nLoading file SOR-2000-42\nLoading file SOR-2000-43\nLoading file SOR-2000-52\nLoading file SOR-2000-53\nLoading file SOR-2000-54\nLoading file SOR-2000-55\n"
     ]
    },
    {
     "name": "stdout",
     "output_type": "stream",
     "text": [
      "Loading file SOR-2000-60\nLoading file SOR-2000-66\nLoading file SOR-2000-69\nLoading file SOR-2000-7\nLoading file SOR-2000-70\nLoading file SOR-2000-71\nLoading file SOR-2000-77\nLoading file SOR-2000-92\nLoading file SOR-2001-101\n"
     ]
    },
    {
     "name": "stdout",
     "output_type": "stream",
     "text": [
      "Loading file SOR-2001-102\nLoading file SOR-2001-103\nLoading file SOR-2001-104\n"
     ]
    },
    {
     "name": "stdout",
     "output_type": "stream",
     "text": [
      "Loading file SOR-2001-115\nLoading file SOR-2001-132\nLoading file SOR-2001-154\nLoading file SOR-2001-161\nLoading file SOR-2001-170\n"
     ]
    },
    {
     "name": "stdout",
     "output_type": "stream",
     "text": [
      "Loading file SOR-2001-171\n"
     ]
    },
    {
     "name": "stdout",
     "output_type": "stream",
     "text": [
      "Loading file SOR-2001-177\nLoading file SOR-2001-182\nLoading file SOR-2001-205\nLoading file SOR-2001-206\nLoading file SOR-2001-207\nLoading file SOR-2001-211\nLoading file SOR-2001-219\nLoading file SOR-2001-220\nLoading file SOR-2001-226\nLoading file SOR-2001-227\nLoading file SOR-2001-248\nLoading file SOR-2001-251\nLoading file SOR-2001-258\nLoading file SOR-2001-261\nLoading file SOR-2001-269\n"
     ]
    },
    {
     "name": "stdout",
     "output_type": "stream",
     "text": [
      "Loading file SOR-2001-275\nLoading file SOR-2001-276\nLoading file SOR-2001-281\nLoading file SOR-2001-282\n"
     ]
    },
    {
     "name": "stdout",
     "output_type": "stream",
     "text": [
      "Loading file SOR-2001-283\nLoading file SOR-2001-286\nLoading file SOR-2001-296\nLoading file SOR-2001-297\nLoading file SOR-2001-317\nLoading file SOR-2001-32\nLoading file SOR-2001-344\nLoading file SOR-2001-345\nLoading file SOR-2001-360\n"
     ]
    },
    {
     "name": "stdout",
     "output_type": "stream",
     "text": [
      "Loading file SOR-2001-363\nLoading file SOR-2001-364\nLoading file SOR-2001-365\nLoading file SOR-2001-366\nLoading file SOR-2001-368\nLoading file SOR-2001-37\nLoading file SOR-2001-370\nLoading file SOR-2001-371\nLoading file SOR-2001-372\nLoading file SOR-2001-373\n"
     ]
    },
    {
     "name": "stdout",
     "output_type": "stream",
     "text": [
      "Loading file SOR-2001-374\nLoading file SOR-2001-375\nLoading file SOR-2001-376\nLoading file SOR-2001-377\nLoading file SOR-2001-378\nLoading file SOR-2001-379\nLoading file SOR-2001-380\nLoading file SOR-2001-381\nLoading file SOR-2001-382\nLoading file SOR-2001-383\nLoading file SOR-2001-384\nLoading file SOR-2001-385\nLoading file SOR-2001-386\nLoading file SOR-2001-387\nLoading file SOR-2001-388\nLoading file SOR-2001-389\nLoading file SOR-2001-390\n"
     ]
    },
    {
     "name": "stdout",
     "output_type": "stream",
     "text": [
      "Loading file SOR-2001-391\nLoading file SOR-2001-392\nLoading file SOR-2001-393\nLoading file SOR-2001-394\nLoading file SOR-2001-395\nLoading file SOR-2001-396\n"
     ]
    },
    {
     "name": "stdout",
     "output_type": "stream",
     "text": [
      "Loading file SOR-2001-397\nLoading file SOR-2001-398\nLoading file SOR-2001-399\nLoading file SOR-2001-400\nLoading file SOR-2001-401\nLoading file SOR-2001-402\nLoading file SOR-2001-403\nLoading file SOR-2001-404\nLoading file SOR-2001-405\nLoading file SOR-2001-406\nLoading file SOR-2001-407\nLoading file SOR-2001-408\n"
     ]
    },
    {
     "name": "stdout",
     "output_type": "stream",
     "text": [
      "Loading file SOR-2001-409\nLoading file SOR-2001-410\nLoading file SOR-2001-411\nLoading file SOR-2001-412\nLoading file SOR-2001-413\nLoading file SOR-2001-414\nLoading file SOR-2001-418\nLoading file SOR-2001-420\nLoading file SOR-2001-424\nLoading file SOR-2001-426\nLoading file SOR-2001-427\nLoading file SOR-2001-428\nLoading file SOR-2001-429\nLoading file SOR-2001-430\nLoading file SOR-2001-431\nLoading file SOR-2001-432\n"
     ]
    },
    {
     "name": "stdout",
     "output_type": "stream",
     "text": [
      "Loading file SOR-2001-433\nLoading file SOR-2001-434\nLoading file SOR-2001-435\nLoading file SOR-2001-436\nLoading file SOR-2001-437\nLoading file SOR-2001-451\nLoading file SOR-2001-471\nLoading file SOR-2001-472\nLoading file SOR-2001-473\nLoading file SOR-2001-474\nLoading file SOR-2001-475\nLoading file SOR-2001-476\nLoading file SOR-2001-477\nLoading file SOR-2001-478\nLoading file SOR-2001-480\nLoading file SOR-2001-484\nLoading file SOR-2001-493\n"
     ]
    },
    {
     "name": "stdout",
     "output_type": "stream",
     "text": [
      "Loading file SOR-2001-496\nLoading file SOR-2001-512\nLoading file SOR-2001-518\n"
     ]
    },
    {
     "name": "stdout",
     "output_type": "stream",
     "text": [
      "Loading file SOR-2001-520\nLoading file SOR-2001-527\nLoading file SOR-2001-532\n"
     ]
    },
    {
     "name": "stdout",
     "output_type": "stream",
     "text": [
      "Loading file SOR-2001-55\nLoading file SOR-2001-56\nLoading file SOR-2001-57\nLoading file SOR-2001-58\nLoading file SOR-2001-59\nLoading file SOR-2001-6\nLoading file SOR-2001-65\nLoading file SOR-2001-66\nLoading file SOR-2001-7\nLoading file SOR-2001-8\nLoading file SOR-2001-84\nLoading file SOR-2002-101\nLoading file SOR-2002-102\nLoading file SOR-2002-103\nLoading file SOR-2002-104\n"
     ]
    },
    {
     "name": "stdout",
     "output_type": "stream",
     "text": [
      "Loading file SOR-2002-105\nLoading file SOR-2002-106\nLoading file SOR-2002-109\nLoading file SOR-2002-11\nLoading file SOR-2002-132\nLoading file SOR-2002-133\nLoading file SOR-2002-138\n"
     ]
    },
    {
     "name": "stdout",
     "output_type": "stream",
     "text": [
      "Loading file SOR-2002-142\nLoading file SOR-2002-145\nLoading file SOR-2002-146\nLoading file SOR-2002-147\nLoading file SOR-2002-148\nLoading file SOR-2002-156\n"
     ]
    },
    {
     "name": "stdout",
     "output_type": "stream",
     "text": [
      "Loading file SOR-2002-16\nLoading file SOR-2002-162\nLoading file SOR-2002-163\nLoading file SOR-2002-164\nLoading file SOR-2002-172\nLoading file SOR-2002-180\nLoading file SOR-2002-184\n"
     ]
    },
    {
     "name": "stdout",
     "output_type": "stream",
     "text": [
      "Loading file SOR-2002-195\nLoading file SOR-2002-196\nLoading file SOR-2002-215\nLoading file SOR-2002-216\nLoading file SOR-2002-22\nLoading file SOR-2002-222\n"
     ]
    },
    {
     "name": "stdout",
     "output_type": "stream",
     "text": [
      "Loading file SOR-2002-223\nLoading file SOR-2002-224\nLoading file SOR-2002-227\n"
     ]
    },
    {
     "name": "stdout",
     "output_type": "stream",
     "text": [
      "Loading file SOR-2002-228\nLoading file SOR-2002-229\nLoading file SOR-2002-230\nLoading file SOR-2002-231\nLoading file SOR-2002-241\n"
     ]
    },
    {
     "name": "stdout",
     "output_type": "stream",
     "text": [
      "Loading file SOR-2002-25\nLoading file SOR-2002-253\nLoading file SOR-2002-254\nLoading file SOR-2002-259\nLoading file SOR-2002-260\nLoading file SOR-2002-262\n"
     ]
    },
    {
     "name": "stdout",
     "output_type": "stream",
     "text": [
      "Loading file SOR-2002-263\nLoading file SOR-2002-264\nLoading file SOR-2002-265\nLoading file SOR-2002-266\nLoading file SOR-2002-284\nLoading file SOR-2002-301\nLoading file SOR-2002-302\nLoading file SOR-2002-303\nLoading file SOR-2002-307\n"
     ]
    },
    {
     "name": "stdout",
     "output_type": "stream",
     "text": [
      "Loading file SOR-2002-316\nLoading file SOR-2002-317\nLoading file SOR-2002-336\nLoading file SOR-2002-337\nLoading file SOR-2002-339\nLoading file SOR-2002-34\nLoading file SOR-2002-348\nLoading file SOR-2002-35\n"
     ]
    },
    {
     "name": "stdout",
     "output_type": "stream",
     "text": [
      "Loading file SOR-2002-351\nLoading file SOR-2002-359\n"
     ]
    },
    {
     "name": "stdout",
     "output_type": "stream",
     "text": [
      "Loading file SOR-2002-36\nLoading file SOR-2002-371\nLoading file SOR-2002-373\nLoading file SOR-2002-374\nLoading file SOR-2002-39\nLoading file SOR-2002-395\n"
     ]
    },
    {
     "name": "stdout",
     "output_type": "stream",
     "text": [
      "Loading file SOR-2002-396\nLoading file SOR-2002-397\nLoading file SOR-2002-398\nLoading file SOR-2002-399\nLoading file SOR-2002-4\nLoading file SOR-2002-400\nLoading file SOR-2002-401\nLoading file SOR-2002-412\nLoading file SOR-2002-414\nLoading file SOR-2002-415\nLoading file SOR-2002-416\n"
     ]
    },
    {
     "name": "stdout",
     "output_type": "stream",
     "text": [
      "Loading file SOR-2002-420\nLoading file SOR-2002-421\nLoading file SOR-2002-422\nLoading file SOR-2002-423\nLoading file SOR-2002-445\nLoading file SOR-2002-450\nLoading file SOR-2002-47\nLoading file SOR-2002-48\nLoading file SOR-2002-54\nLoading file SOR-2002-63\n"
     ]
    },
    {
     "name": "stdout",
     "output_type": "stream",
     "text": [
      "Loading file SOR-2002-65\nLoading file SOR-2002-66\nLoading file SOR-2002-75\nLoading file SOR-2002-76\nLoading file SOR-2003-105\nLoading file SOR-2003-115\n"
     ]
    },
    {
     "name": "stdout",
     "output_type": "stream",
     "text": [
      "Loading file SOR-2003-124\nLoading file SOR-2003-125\nLoading file SOR-2003-15\nLoading file SOR-2003-174\nLoading file SOR-2003-175\nLoading file SOR-2003-180\nLoading file SOR-2003-181\nLoading file SOR-2003-184\nLoading file SOR-2003-185\nLoading file SOR-2003-186\nLoading file SOR-2003-192\nLoading file SOR-2003-196\n"
     ]
    },
    {
     "name": "stdout",
     "output_type": "stream",
     "text": [
      "Loading file SOR-2003-2\n"
     ]
    },
    {
     "name": "stdout",
     "output_type": "stream",
     "text": [
      "Loading file SOR-2003-200\nLoading file SOR-2003-201\nLoading file SOR-2003-202\nLoading file SOR-2003-203\nLoading file SOR-2003-204\nLoading file SOR-2003-205\nLoading file SOR-2003-206\nLoading file SOR-2003-207\nLoading file SOR-2003-212\nLoading file SOR-2003-215\nLoading file SOR-2003-219\nLoading file SOR-2003-225\n"
     ]
    },
    {
     "name": "stdout",
     "output_type": "stream",
     "text": [
      "Loading file SOR-2003-242\nLoading file SOR-2003-243\nLoading file SOR-2003-244\nLoading file SOR-2003-245\nLoading file SOR-2003-261\nLoading file SOR-2003-267\nLoading file SOR-2003-274\nLoading file SOR-2003-28\nLoading file SOR-2003-283\nLoading file SOR-2003-286\nLoading file SOR-2003-288\nLoading file SOR-2003-289\n"
     ]
    },
    {
     "name": "stdout",
     "output_type": "stream",
     "text": [
      "Loading file SOR-2003-293\nLoading file SOR-2003-297\nLoading file SOR-2003-298\nLoading file SOR-2003-299\nLoading file SOR-2003-30\nLoading file SOR-2003-300\nLoading file SOR-2003-301\nLoading file SOR-2003-307\n"
     ]
    },
    {
     "name": "stdout",
     "output_type": "stream",
     "text": [
      "Loading file SOR-2003-309\nLoading file SOR-2003-31\nLoading file SOR-2003-310\nLoading file SOR-2003-312\nLoading file SOR-2003-313\nLoading file SOR-2003-323\nLoading file SOR-2003-343\nLoading file SOR-2003-346\n"
     ]
    },
    {
     "name": "stdout",
     "output_type": "stream",
     "text": [
      "Loading file SOR-2003-347\nLoading file SOR-2003-355\nLoading file SOR-2003-357\nLoading file SOR-2003-363\n"
     ]
    },
    {
     "name": "stdout",
     "output_type": "stream",
     "text": [
      "Loading file SOR-2003-374\nLoading file SOR-2003-39\nLoading file SOR-2003-429\nLoading file SOR-2003-430\nLoading file SOR-2003-51\nLoading file SOR-2003-60\nLoading file SOR-2003-61\nLoading file SOR-2003-62\nLoading file SOR-2003-63\nLoading file SOR-2003-64\nLoading file SOR-2003-65\nLoading file SOR-2003-66\n"
     ]
    },
    {
     "name": "stdout",
     "output_type": "stream",
     "text": [
      "Loading file SOR-2003-67\nLoading file SOR-2003-68\nLoading file SOR-2003-69\nLoading file SOR-2003-72\nLoading file SOR-2003-73\nLoading file SOR-2003-75\nLoading file SOR-2003-78\nLoading file SOR-2003-79\nLoading file SOR-2003-87\nLoading file SOR-2004-102\n"
     ]
    },
    {
     "name": "stdout",
     "output_type": "stream",
     "text": [
      "Loading file SOR-2004-105\nLoading file SOR-2004-107\nLoading file SOR-2004-112\nLoading file SOR-2004-113\nLoading file SOR-2004-129\nLoading file SOR-2004-130\nLoading file SOR-2004-136\nLoading file SOR-2004-137\nLoading file SOR-2004-144\n"
     ]
    },
    {
     "name": "stdout",
     "output_type": "stream",
     "text": [
      "Loading file SOR-2004-15\nLoading file SOR-2004-150\nLoading file SOR-2004-155\nLoading file SOR-2004-156\nLoading file SOR-2004-174\nLoading file SOR-2004-187\nLoading file SOR-2004-197\nLoading file SOR-2004-199\nLoading file SOR-2004-211\nLoading file SOR-2004-212\n"
     ]
    },
    {
     "name": "stdout",
     "output_type": "stream",
     "text": [
      "Loading file SOR-2004-219\nLoading file SOR-2004-220\nLoading file SOR-2004-221\nLoading file SOR-2004-222\nLoading file SOR-2004-239\nLoading file SOR-2004-257\nLoading file SOR-2004-264\nLoading file SOR-2004-275\nLoading file SOR-2004-284\nLoading file SOR-2004-293\nLoading file SOR-2004-301\n"
     ]
    },
    {
     "name": "stdout",
     "output_type": "stream",
     "text": [
      "Loading file SOR-2004-304\nLoading file SOR-2004-305\nLoading file SOR-2004-306\nLoading file SOR-2004-307\nLoading file SOR-2004-308\nLoading file SOR-2004-310\nLoading file SOR-2004-321\nLoading file SOR-2004-322\nLoading file SOR-2004-53\nLoading file SOR-2004-62\n"
     ]
    },
    {
     "name": "stdout",
     "output_type": "stream",
     "text": [
      "Loading file SOR-2004-69\nLoading file SOR-2004-8\nLoading file SOR-2004-86\nLoading file SOR-2004-93\nLoading file SOR-2004-96\nLoading file SOR-2004-99\nLoading file SOR-2005-1\nLoading file SOR-2005-10\nLoading file SOR-2005-103\nLoading file SOR-2005-106\nLoading file SOR-2005-109\nLoading file SOR-2005-112\n"
     ]
    },
    {
     "name": "stdout",
     "output_type": "stream",
     "text": [
      "Loading file SOR-2005-120\nLoading file SOR-2005-127\nLoading file SOR-2005-131\nLoading file SOR-2005-132\nLoading file SOR-2005-134\nLoading file SOR-2005-138\nLoading file SOR-2005-143\n"
     ]
    },
    {
     "name": "stdout",
     "output_type": "stream",
     "text": [
      "Loading file SOR-2005-149\nLoading file SOR-2005-151\nLoading file SOR-2005-16\n"
     ]
    },
    {
     "name": "stdout",
     "output_type": "stream",
     "text": [
      "Loading file SOR-2005-178\nLoading file SOR-2005-180\nLoading file SOR-2005-2\nLoading file SOR-2005-200\nLoading file SOR-2005-204\nLoading file SOR-2005-205\nLoading file SOR-2005-22\nLoading file SOR-2005-220\nLoading file SOR-2005-226\n"
     ]
    },
    {
     "name": "stdout",
     "output_type": "stream",
     "text": [
      "Loading file SOR-2005-23\nLoading file SOR-2005-232\nLoading file SOR-2005-247\n"
     ]
    },
    {
     "name": "stdout",
     "output_type": "stream",
     "text": [
      "Loading file SOR-2005-248\nLoading file SOR-2005-256\nLoading file SOR-2005-257\nLoading file SOR-2005-263\nLoading file SOR-2005-267\nLoading file SOR-2005-280\nLoading file SOR-2005-291\nLoading file SOR-2005-293\nLoading file SOR-2005-294\nLoading file SOR-2005-295\n"
     ]
    },
    {
     "name": "stdout",
     "output_type": "stream",
     "text": [
      "Loading file SOR-2005-30\nLoading file SOR-2005-309\nLoading file SOR-2005-311\nLoading file SOR-2005-313\nLoading file SOR-2005-32\n"
     ]
    },
    {
     "name": "stdout",
     "output_type": "stream",
     "text": [
      "Loading file SOR-2005-328\nLoading file SOR-2005-334\nLoading file SOR-2005-338\nLoading file SOR-2005-346\nLoading file SOR-2005-347\nLoading file SOR-2005-35\nLoading file SOR-2005-352\nLoading file SOR-2005-353\nLoading file SOR-2005-37\nLoading file SOR-2005-373\nLoading file SOR-2005-375\nLoading file SOR-2005-376\nLoading file SOR-2005-377\nLoading file SOR-2005-379\n"
     ]
    },
    {
     "name": "stdout",
     "output_type": "stream",
     "text": [
      "Loading file SOR-2005-380\nLoading file SOR-2005-392\nLoading file SOR-2005-399\nLoading file SOR-2005-404\nLoading file SOR-2005-41\nLoading file SOR-2005-43\nLoading file SOR-2005-59\nLoading file SOR-2005-6\nLoading file SOR-2005-60\nLoading file SOR-2005-62\n"
     ]
    },
    {
     "name": "stdout",
     "output_type": "stream",
     "text": [
      "Loading file SOR-2005-73\nLoading file SOR-2005-78\nLoading file SOR-2005-79\nLoading file SOR-2005-99\n"
     ]
    },
    {
     "name": "stdout",
     "output_type": "stream",
     "text": [
      "Loading file SOR-2006-102\nLoading file SOR-2006-104\nLoading file SOR-2006-114\nLoading file SOR-2006-115\nLoading file SOR-2006-124\n"
     ]
    },
    {
     "name": "stdout",
     "output_type": "stream",
     "text": [
      "Loading file SOR-2006-129\nLoading file SOR-2006-137\nLoading file SOR-2006-139\nLoading file SOR-2006-15\nLoading file SOR-2006-168\nLoading file SOR-2006-190\nLoading file SOR-2006-195\nLoading file SOR-2006-229\nLoading file SOR-2006-230\nLoading file SOR-2006-236\nLoading file SOR-2006-243\nLoading file SOR-2006-244\nLoading file SOR-2006-245\nLoading file SOR-2006-246\nLoading file SOR-2006-247\nLoading file SOR-2006-252\nLoading file SOR-2006-254\n"
     ]
    },
    {
     "name": "stdout",
     "output_type": "stream",
     "text": [
      "Loading file SOR-2006-260\nLoading file SOR-2006-261\nLoading file SOR-2006-275\nLoading file SOR-2006-287\nLoading file SOR-2006-288\n"
     ]
    },
    {
     "name": "stdout",
     "output_type": "stream",
     "text": [
      "Loading file SOR-2006-298\nLoading file SOR-2006-299\nLoading file SOR-2006-300\nLoading file SOR-2006-301\nLoading file SOR-2006-302\nLoading file SOR-2006-303\nLoading file SOR-2006-304\nLoading file SOR-2006-305\nLoading file SOR-2006-306\nLoading file SOR-2006-307\nLoading file SOR-2006-308\nLoading file SOR-2006-309\nLoading file SOR-2006-310\nLoading file SOR-2006-311\nLoading file SOR-2006-312\nLoading file SOR-2006-313\nLoading file SOR-2006-314\nLoading file SOR-2006-315\nLoading file SOR-2006-316\nLoading file SOR-2006-317\n"
     ]
    },
    {
     "name": "stdout",
     "output_type": "stream",
     "text": [
      "Loading file SOR-2006-318\nLoading file SOR-2006-319\nLoading file SOR-2006-320\nLoading file SOR-2006-321\nLoading file SOR-2006-330\nLoading file SOR-2006-337\nLoading file SOR-2006-338\nLoading file SOR-2006-347\nLoading file SOR-2006-354\nLoading file SOR-2006-355\nLoading file SOR-2006-36\nLoading file SOR-2006-43\nLoading file SOR-2006-50\n"
     ]
    },
    {
     "name": "stdout",
     "output_type": "stream",
     "text": [
      "Loading file SOR-2006-6\nLoading file SOR-2006-78\nLoading file SOR-2006-92\nLoading file SOR-2006-95\nLoading file SOR-2007-108\n"
     ]
    },
    {
     "name": "stdout",
     "output_type": "stream",
     "text": [
      "Loading file SOR-2007-115\n"
     ]
    },
    {
     "name": "stdout",
     "output_type": "stream",
     "text": [
      "Loading file SOR-2007-118\nLoading file SOR-2007-121\nLoading file SOR-2007-123\nLoading file SOR-2007-125\nLoading file SOR-2007-126\n"
     ]
    },
    {
     "name": "stdout",
     "output_type": "stream",
     "text": [
      "Loading file SOR-2007-127\nLoading file SOR-2007-128\n"
     ]
    },
    {
     "name": "stdout",
     "output_type": "stream",
     "text": [
      "Loading file SOR-2007-134\nLoading file SOR-2007-135\nLoading file SOR-2007-137\nLoading file SOR-2007-15\nLoading file SOR-2007-151\nLoading file SOR-2007-16\nLoading file SOR-2007-160\nLoading file SOR-2007-165\nLoading file SOR-2007-166\nLoading file SOR-2007-17\nLoading file SOR-2007-173\n"
     ]
    },
    {
     "name": "stdout",
     "output_type": "stream",
     "text": [
      "Loading file SOR-2007-174\nLoading file SOR-2007-193\nLoading file SOR-2007-194\nLoading file SOR-2007-201\nLoading file SOR-2007-204\nLoading file SOR-2007-231\nLoading file SOR-2007-232\nLoading file SOR-2007-237\nLoading file SOR-2007-239\n"
     ]
    },
    {
     "name": "stdout",
     "output_type": "stream",
     "text": [
      "Loading file SOR-2007-240\nLoading file SOR-2007-241\nLoading file SOR-2007-242\nLoading file SOR-2007-243\nLoading file SOR-2007-244\nLoading file SOR-2007-245\nLoading file SOR-2007-25\nLoading file SOR-2007-252\nLoading file SOR-2007-255\nLoading file SOR-2007-256\nLoading file SOR-2007-257\nLoading file SOR-2007-258\nLoading file SOR-2007-260\nLoading file SOR-2007-267\n"
     ]
    },
    {
     "name": "stdout",
     "output_type": "stream",
     "text": [
      "Loading file SOR-2007-272\nLoading file SOR-2007-277\nLoading file SOR-2007-282\nLoading file SOR-2007-285\nLoading file SOR-2007-286\nLoading file SOR-2007-292\nLoading file SOR-2007-294\nLoading file SOR-2007-299\nLoading file SOR-2007-303\n"
     ]
    },
    {
     "name": "stdout",
     "output_type": "stream",
     "text": [
      "Loading file SOR-2007-305\nLoading file SOR-2007-31\nLoading file SOR-2007-32\nLoading file SOR-2007-44\n"
     ]
    },
    {
     "name": "stdout",
     "output_type": "stream",
     "text": [
      "Loading file SOR-2007-49\nLoading file SOR-2007-63\nLoading file SOR-2007-66\nLoading file SOR-2007-67\nLoading file SOR-2007-71\nLoading file SOR-2007-77\nLoading file SOR-2007-79\nLoading file SOR-2007-82\nLoading file SOR-2007-86\n"
     ]
    },
    {
     "name": "stdout",
     "output_type": "stream",
     "text": [
      "Loading file SOR-2007-99\nLoading file SOR-2008-102\nLoading file SOR-2008-109\nLoading file SOR-2008-115\nLoading file SOR-2008-116\nLoading file SOR-2008-117\n"
     ]
    },
    {
     "name": "stdout",
     "output_type": "stream",
     "text": [
      "Loading file SOR-2008-120\nLoading file SOR-2008-121\nLoading file SOR-2008-124\nLoading file SOR-2008-138\nLoading file SOR-2008-141\n"
     ]
    },
    {
     "name": "stdout",
     "output_type": "stream",
     "text": [
      "Loading file SOR-2008-143\nLoading file SOR-2008-156\nLoading file SOR-2008-158\nLoading file SOR-2008-163\nLoading file SOR-2008-167\nLoading file SOR-2008-178\nLoading file SOR-2008-180\nLoading file SOR-2008-185\nLoading file SOR-2008-186\nLoading file SOR-2008-196\nLoading file SOR-2008-197\n"
     ]
    },
    {
     "name": "stdout",
     "output_type": "stream",
     "text": [
      "Loading file SOR-2008-208\nLoading file SOR-2008-209\nLoading file SOR-2008-210\nLoading file SOR-2008-212\nLoading file SOR-2008-218\nLoading file SOR-2008-22\nLoading file SOR-2008-222\nLoading file SOR-2008-231\nLoading file SOR-2008-236\nLoading file SOR-2008-244\nLoading file SOR-2008-247\nLoading file SOR-2008-248\nLoading file SOR-2008-249\nLoading file SOR-2008-252\n"
     ]
    },
    {
     "name": "stdout",
     "output_type": "stream",
     "text": [
      "Loading file SOR-2008-273\nLoading file SOR-2008-275\nLoading file SOR-2008-292\nLoading file SOR-2008-306\nLoading file SOR-2008-319\nLoading file SOR-2008-45\nLoading file SOR-2008-47\nLoading file SOR-2008-48\nLoading file SOR-2008-50\n"
     ]
    },
    {
     "name": "stdout",
     "output_type": "stream",
     "text": [
      "Loading file SOR-2008-57\nLoading file SOR-2008-58\nLoading file SOR-2008-59\nLoading file SOR-2008-60\nLoading file SOR-2008-64\nLoading file SOR-2008-65\nLoading file SOR-2008-66\nLoading file SOR-2008-67\nLoading file SOR-2008-68\nLoading file SOR-2008-69\nLoading file SOR-2008-76\nLoading file SOR-2008-79\nLoading file SOR-2008-97\nLoading file SOR-2009-10\nLoading file SOR-2009-110\nLoading file SOR-2009-112\n"
     ]
    },
    {
     "name": "stdout",
     "output_type": "stream",
     "text": [
      "Loading file SOR-2009-14\nLoading file SOR-2009-145\nLoading file SOR-2009-15\nLoading file SOR-2009-162\nLoading file SOR-2009-17\nLoading file SOR-2009-176\nLoading file SOR-2009-177\n"
     ]
    },
    {
     "name": "stdout",
     "output_type": "stream",
     "text": [
      "Loading file SOR-2009-182\nLoading file SOR-2009-183\nLoading file SOR-2009-193\nLoading file SOR-2009-197\nLoading file SOR-2009-198\nLoading file SOR-2009-199\nLoading file SOR-2009-200\nLoading file SOR-2009-202\nLoading file SOR-2009-204\n"
     ]
    },
    {
     "name": "stdout",
     "output_type": "stream",
     "text": [
      "Loading file SOR-2009-211\nLoading file SOR-2009-214\nLoading file SOR-2009-215\nLoading file SOR-2009-216\nLoading file SOR-2009-217\nLoading file SOR-2009-219\nLoading file SOR-2009-231\n"
     ]
    },
    {
     "name": "stdout",
     "output_type": "stream",
     "text": [
      "Loading file SOR-2009-257\nLoading file SOR-2009-264\nLoading file SOR-2009-271\nLoading file SOR-2009-277\nLoading file SOR-2009-278\nLoading file SOR-2009-298\nLoading file SOR-2009-315\n"
     ]
    },
    {
     "name": "stdout",
     "output_type": "stream",
     "text": [
      "Loading file SOR-2009-316\nLoading file SOR-2009-317\n"
     ]
    },
    {
     "name": "stdout",
     "output_type": "stream",
     "text": [
      "Loading file SOR-2009-320\nLoading file SOR-2009-321\n"
     ]
    },
    {
     "name": "stdout",
     "output_type": "stream",
     "text": [
      "Loading file SOR-2009-336\nLoading file SOR-2009-67\nLoading file SOR-2009-68\nLoading file SOR-2009-89\nLoading file SOR-2009-92\n"
     ]
    },
    {
     "name": "stdout",
     "output_type": "stream",
     "text": [
      "Loading file SOR-2010-110\nLoading file SOR-2010-116\nLoading file SOR-2010-117\n"
     ]
    },
    {
     "name": "stdout",
     "output_type": "stream",
     "text": [
      "Loading file SOR-2010-120\n"
     ]
    },
    {
     "name": "stdout",
     "output_type": "stream",
     "text": [
      "Loading file SOR-2010-127\nLoading file SOR-2010-13\nLoading file SOR-2010-130\nLoading file SOR-2010-135\nLoading file SOR-2010-138\nLoading file SOR-2010-147\nLoading file SOR-2010-148\nLoading file SOR-2010-150\n"
     ]
    },
    {
     "name": "stdout",
     "output_type": "stream",
     "text": [
      "Loading file SOR-2010-151\n"
     ]
    },
    {
     "name": "stdout",
     "output_type": "stream",
     "text": [
      "Loading file SOR-2010-156\nLoading file SOR-2010-158\nLoading file SOR-2010-161\nLoading file SOR-2010-165\nLoading file SOR-2010-166\nLoading file SOR-2010-171\nLoading file SOR-2010-189\n"
     ]
    },
    {
     "name": "stdout",
     "output_type": "stream",
     "text": [
      "Loading file SOR-2010-190\nLoading file SOR-2010-20\n"
     ]
    },
    {
     "name": "stdout",
     "output_type": "stream",
     "text": [
      "Loading file SOR-2010-201\n"
     ]
    },
    {
     "name": "stdout",
     "output_type": "stream",
     "text": [
      "Loading file SOR-2010-202\nLoading file SOR-2010-203\nLoading file SOR-2010-21\nLoading file SOR-2010-220\nLoading file SOR-2010-227\nLoading file SOR-2010-230\nLoading file SOR-2010-231\nLoading file SOR-2010-232\nLoading file SOR-2010-233\nLoading file SOR-2010-234\nLoading file SOR-2010-235\nLoading file SOR-2010-236\nLoading file SOR-2010-237\nLoading file SOR-2010-238\nLoading file SOR-2010-239\n"
     ]
    },
    {
     "name": "stdout",
     "output_type": "stream",
     "text": [
      "Loading file SOR-2010-240\nLoading file SOR-2010-241\nLoading file SOR-2010-242\nLoading file SOR-2010-245\nLoading file SOR-2010-259\nLoading file SOR-2010-261\nLoading file SOR-2010-270\nLoading file SOR-2010-273\nLoading file SOR-2010-277\n"
     ]
    },
    {
     "name": "stdout",
     "output_type": "stream",
     "text": [
      "Loading file SOR-2010-278\nLoading file SOR-2010-28\nLoading file SOR-2010-282\nLoading file SOR-2010-29\nLoading file SOR-2010-290\nLoading file SOR-2010-291\nLoading file SOR-2010-292\nLoading file SOR-2010-298\nLoading file SOR-2010-52\nLoading file SOR-2010-56\nLoading file SOR-2010-58\nLoading file SOR-2010-62\nLoading file SOR-2010-65\n"
     ]
    },
    {
     "name": "stdout",
     "output_type": "stream",
     "text": [
      "Loading file SOR-2010-67\nLoading file SOR-2010-68\nLoading file SOR-2010-69\nLoading file SOR-2010-83\nLoading file SOR-2010-84\nLoading file SOR-2010-88\nLoading file SOR-2010-90\n"
     ]
    },
    {
     "name": "stdout",
     "output_type": "stream",
     "text": [
      "Loading file SOR-2010-91\n"
     ]
    },
    {
     "name": "stdout",
     "output_type": "stream",
     "text": [
      "Loading file SOR-2010-99\nLoading file SOR-2011-10\n"
     ]
    },
    {
     "name": "stdout",
     "output_type": "stream",
     "text": [
      "Loading file SOR-2011-100\nLoading file SOR-2011-108\nLoading file SOR-2011-114\nLoading file SOR-2011-115\nLoading file SOR-2011-119\nLoading file SOR-2011-121\n"
     ]
    },
    {
     "name": "stdout",
     "output_type": "stream",
     "text": [
      "Loading file SOR-2011-122\nLoading file SOR-2011-130\nLoading file SOR-2011-131\nLoading file SOR-2011-132\nLoading file SOR-2011-133\nLoading file SOR-2011-139\nLoading file SOR-2011-142\nLoading file SOR-2011-15\nLoading file SOR-2011-16\nLoading file SOR-2011-167\nLoading file SOR-2011-168\nLoading file SOR-2011-17\n"
     ]
    },
    {
     "name": "stdout",
     "output_type": "stream",
     "text": [
      "Loading file SOR-2011-170\nLoading file SOR-2011-177\nLoading file SOR-2011-178\nLoading file SOR-2011-18\nLoading file SOR-2011-180\nLoading file SOR-2011-19\nLoading file SOR-2011-20\nLoading file SOR-2011-201\n"
     ]
    },
    {
     "name": "stdout",
     "output_type": "stream",
     "text": [
      "Loading file SOR-2011-203\nLoading file SOR-2011-204\nLoading file SOR-2011-21\nLoading file SOR-2011-215\nLoading file SOR-2011-22\nLoading file SOR-2011-223\nLoading file SOR-2011-227\nLoading file SOR-2011-230\nLoading file SOR-2011-237\n"
     ]
    },
    {
     "name": "stdout",
     "output_type": "stream",
     "text": [
      "Loading file SOR-2011-246\nLoading file SOR-2011-247\nLoading file SOR-2011-248\nLoading file SOR-2011-249\nLoading file SOR-2011-250\nLoading file SOR-2011-251\nLoading file SOR-2011-254\nLoading file SOR-2011-255\nLoading file SOR-2011-265\nLoading file SOR-2011-269\nLoading file SOR-2011-292\nLoading file SOR-2011-317\nLoading file SOR-2011-318\n"
     ]
    },
    {
     "name": "stdout",
     "output_type": "stream",
     "text": [
      "Loading file SOR-2011-33\nLoading file SOR-2011-51\nLoading file SOR-2011-52\nLoading file SOR-2011-55\nLoading file SOR-2011-57\nLoading file SOR-2011-62\nLoading file SOR-2011-65\nLoading file SOR-2011-7\nLoading file SOR-2011-78\nLoading file SOR-2011-79\n"
     ]
    },
    {
     "name": "stdout",
     "output_type": "stream",
     "text": [
      "Loading file SOR-2011-86\nLoading file SOR-2011-87\n"
     ]
    },
    {
     "name": "stdout",
     "output_type": "stream",
     "text": [
      "Loading file SOR-2011-90\nLoading file SOR-2011-91\nLoading file SOR-2011-98\nLoading file SOR-2011-99\nLoading file SOR-2012-113\nLoading file SOR-2012-123\nLoading file SOR-2012-134\nLoading file SOR-2012-138\nLoading file SOR-2012-139\n"
     ]
    },
    {
     "name": "stdout",
     "output_type": "stream",
     "text": [
      "Loading file SOR-2012-146\nLoading file SOR-2012-147\nLoading file SOR-2012-148\nLoading file SOR-2012-149\nLoading file SOR-2012-152\nLoading file SOR-2012-160\nLoading file SOR-2012-167\n"
     ]
    },
    {
     "name": "stdout",
     "output_type": "stream",
     "text": [
      "Loading file SOR-2012-17\nLoading file SOR-2012-170\nLoading file SOR-2012-179\nLoading file SOR-2012-18\nLoading file SOR-2012-180\nLoading file SOR-2012-181\nLoading file SOR-2012-202\nLoading file SOR-2012-203\nLoading file SOR-2012-204\nLoading file SOR-2012-205\nLoading file SOR-2012-206\nLoading file SOR-2012-207\nLoading file SOR-2012-208\nLoading file SOR-2012-209\nLoading file SOR-2012-210\nLoading file SOR-2012-211\nLoading file SOR-2012-212\nLoading file SOR-2012-213\nLoading file SOR-2012-214\n"
     ]
    },
    {
     "name": "stdout",
     "output_type": "stream",
     "text": [
      "Loading file SOR-2012-215\nLoading file SOR-2012-216\nLoading file SOR-2012-222\nLoading file SOR-2012-226\nLoading file SOR-2012-23\nLoading file SOR-2012-230\nLoading file SOR-2012-231\nLoading file SOR-2012-232\nLoading file SOR-2012-24\nLoading file SOR-2012-247\n"
     ]
    },
    {
     "name": "stdout",
     "output_type": "stream",
     "text": [
      "Loading file SOR-2012-248\nLoading file SOR-2012-253\nLoading file SOR-2012-255\nLoading file SOR-2012-256\n"
     ]
    },
    {
     "name": "stdout",
     "output_type": "stream",
     "text": [
      "Loading file SOR-2012-257\nLoading file SOR-2012-264\nLoading file SOR-2012-265\n"
     ]
    },
    {
     "name": "stdout",
     "output_type": "stream",
     "text": [
      "Loading file SOR-2012-267\nLoading file SOR-2012-268\nLoading file SOR-2012-278\nLoading file SOR-2012-281\nLoading file SOR-2012-282\nLoading file SOR-2012-285\n"
     ]
    },
    {
     "name": "stdout",
     "output_type": "stream",
     "text": [
      "Loading file SOR-2012-293\nLoading file SOR-2012-294\nLoading file SOR-2012-34\nLoading file SOR-2012-36\nLoading file SOR-2012-69\n"
     ]
    },
    {
     "name": "stdout",
     "output_type": "stream",
     "text": [
      "Loading file SOR-2012-83\nLoading file SOR-2012-87\nLoading file SOR-2012-89\nLoading file SOR-2012-90\nLoading file SOR-2012-91\nLoading file SOR-2012-92\nLoading file SOR-2012-93\nLoading file SOR-2012-94\nLoading file SOR-2012-95\n"
     ]
    },
    {
     "name": "stdout",
     "output_type": "stream",
     "text": [
      "Loading file SOR-2012-96\nLoading file SOR-2012-97\nLoading file SOR-2012-98\nLoading file SOR-2013-1\nLoading file SOR-2013-101\nLoading file SOR-2013-119\nLoading file SOR-2013-120\nLoading file SOR-2013-127\nLoading file SOR-2013-132\n"
     ]
    },
    {
     "name": "stdout",
     "output_type": "stream",
     "text": [
      "Loading file SOR-2013-138\nLoading file SOR-2013-139\nLoading file SOR-2013-140\nLoading file SOR-2013-141\nLoading file SOR-2013-142\nLoading file SOR-2013-143\nLoading file SOR-2013-144\nLoading file SOR-2013-161\nLoading file SOR-2013-162\nLoading file SOR-2013-165\nLoading file SOR-2013-178\n"
     ]
    },
    {
     "name": "stdout",
     "output_type": "stream",
     "text": [
      "Loading file SOR-2013-19\nLoading file SOR-2013-191\nLoading file SOR-2013-198\nLoading file SOR-2013-202\nLoading file SOR-2013-209\nLoading file SOR-2013-211\n"
     ]
    },
    {
     "name": "stdout",
     "output_type": "stream",
     "text": [
      "Loading file SOR-2013-214\nLoading file SOR-2013-215\nLoading file SOR-2013-216\nLoading file SOR-2013-217\nLoading file SOR-2013-221\nLoading file SOR-2013-236\nLoading file SOR-2013-238\nLoading file SOR-2013-239\nLoading file SOR-2013-24\n"
     ]
    },
    {
     "name": "stdout",
     "output_type": "stream",
     "text": [
      "Loading file SOR-2013-240\nLoading file SOR-2013-241\nLoading file SOR-2013-242\nLoading file SOR-2013-243\nLoading file SOR-2013-244\nLoading file SOR-2013-249\nLoading file SOR-2013-35\nLoading file SOR-2013-38\nLoading file SOR-2013-39\nLoading file SOR-2013-40\n"
     ]
    },
    {
     "name": "stdout",
     "output_type": "stream",
     "text": [
      "Loading file SOR-2013-48\nLoading file SOR-2013-50\nLoading file SOR-2013-51\nLoading file SOR-2013-52\nLoading file SOR-2013-58\nLoading file SOR-2013-60\nLoading file SOR-2013-63\nLoading file SOR-2013-69\nLoading file SOR-2013-7\nLoading file SOR-2013-82\nLoading file SOR-2013-87\nLoading file SOR-2013-88\n"
     ]
    },
    {
     "name": "stdout",
     "output_type": "stream",
     "text": [
      "Loading file SOR-2014-10\nLoading file SOR-2014-104\nLoading file SOR-2014-117\nLoading file SOR-2014-121\nLoading file SOR-2014-128\nLoading file SOR-2014-13\nLoading file SOR-2014-137\nLoading file SOR-2014-16\n"
     ]
    },
    {
     "name": "stdout",
     "output_type": "stream",
     "text": [
      "Loading file SOR-2014-163\nLoading file SOR-2014-176\nLoading file SOR-2014-177\nLoading file SOR-2014-18\nLoading file SOR-2014-181\nLoading file SOR-2014-189\nLoading file SOR-2014-192\nLoading file SOR-2014-198\n"
     ]
    },
    {
     "name": "stdout",
     "output_type": "stream",
     "text": [
      "Loading file SOR-2014-200\nLoading file SOR-2014-213\nLoading file SOR-2014-217\nLoading file SOR-2014-218\nLoading file SOR-2014-219\nLoading file SOR-2014-220\nLoading file SOR-2014-221\nLoading file SOR-2014-233\nLoading file SOR-2014-234\nLoading file SOR-2014-235\nLoading file SOR-2014-236\nLoading file SOR-2014-253\nLoading file SOR-2014-254\nLoading file SOR-2014-255\n"
     ]
    },
    {
     "name": "stdout",
     "output_type": "stream",
     "text": [
      "Loading file SOR-2014-258\nLoading file SOR-2014-265\nLoading file SOR-2014-266\nLoading file SOR-2014-270\nLoading file SOR-2014-275\nLoading file SOR-2014-276\nLoading file SOR-2014-277\nLoading file SOR-2014-278\n"
     ]
    },
    {
     "name": "stdout",
     "output_type": "stream",
     "text": [
      "Loading file SOR-2014-279\nLoading file SOR-2014-280\nLoading file SOR-2014-281\nLoading file SOR-2014-283\nLoading file SOR-2014-289\nLoading file SOR-2014-290\n"
     ]
    },
    {
     "name": "stdout",
     "output_type": "stream",
     "text": [
      "Loading file SOR-2014-291\nLoading file SOR-2014-292\nLoading file SOR-2014-293\nLoading file SOR-2014-299\nLoading file SOR-2014-300\nLoading file SOR-2014-301\nLoading file SOR-2014-304\nLoading file SOR-2014-321\n"
     ]
    },
    {
     "name": "stdout",
     "output_type": "stream",
     "text": [
      "Loading file SOR-2014-37\nLoading file SOR-2014-38\nLoading file SOR-2014-44\nLoading file SOR-2014-55\nLoading file SOR-2014-56\nLoading file SOR-2014-58\n"
     ]
    },
    {
     "name": "stdout",
     "output_type": "stream",
     "text": [
      "Loading file SOR-2014-59\nLoading file SOR-2014-60\nLoading file SOR-2014-61\nLoading file SOR-2014-68\n"
     ]
    },
    {
     "name": "stdout",
     "output_type": "stream",
     "text": [
      "Loading file SOR-2014-69\n"
     ]
    },
    {
     "name": "stdout",
     "output_type": "stream",
     "text": [
      "Loading file SOR-2014-70\nLoading file SOR-2014-91\nLoading file SOR-2014-94\nLoading file SOR-2014-95\nLoading file SOR-2015-1\n"
     ]
    },
    {
     "name": "stdout",
     "output_type": "stream",
     "text": [
      "Loading file SOR-2015-103\nLoading file SOR-2015-105\nLoading file SOR-2015-114\nLoading file SOR-2015-12\nLoading file SOR-2015-121\nLoading file SOR-2015-124\n"
     ]
    },
    {
     "name": "stdout",
     "output_type": "stream",
     "text": [
      "Loading file SOR-2015-13\nLoading file SOR-2015-130\nLoading file SOR-2015-131\nLoading file SOR-2015-14\nLoading file SOR-2015-145\nLoading file SOR-2015-15\n"
     ]
    },
    {
     "name": "stdout",
     "output_type": "stream",
     "text": [
      "Loading file SOR-2015-16\nLoading file SOR-2015-164\nLoading file SOR-2015-165\nLoading file SOR-2015-167\nLoading file SOR-2015-168\n"
     ]
    },
    {
     "name": "stdout",
     "output_type": "stream",
     "text": [
      "Loading file SOR-2015-17\n"
     ]
    },
    {
     "name": "stdout",
     "output_type": "stream",
     "text": [
      "Loading file SOR-2015-177\nLoading file SOR-2015-181\nLoading file SOR-2015-2\n"
     ]
    },
    {
     "name": "stdout",
     "output_type": "stream",
     "text": [
      "Loading file SOR-2015-200\nLoading file SOR-2015-202\nLoading file SOR-2015-203\nLoading file SOR-2015-240\nLoading file SOR-2015-241\nLoading file SOR-2015-26\nLoading file SOR-2015-3\n"
     ]
    },
    {
     "name": "stdout",
     "output_type": "stream",
     "text": [
      "Loading file SOR-2015-36\nLoading file SOR-2015-4\nLoading file SOR-2015-44\nLoading file SOR-2015-5\n"
     ]
    },
    {
     "name": "stdout",
     "output_type": "stream",
     "text": [
      "Loading file SOR-2015-56\nLoading file SOR-2015-6\n"
     ]
    },
    {
     "name": "stdout",
     "output_type": "stream",
     "text": [
      "Loading file SOR-2015-68\nLoading file SOR-2015-80\nLoading file SOR-2015-86\nLoading file SOR-2015-97\nLoading file SOR-2016-103\nLoading file SOR-2016-108\nLoading file SOR-2016-124\nLoading file SOR-2016-129\nLoading file SOR-2016-133\nLoading file SOR-2016-137\n"
     ]
    },
    {
     "name": "stdout",
     "output_type": "stream",
     "text": [
      "Loading file SOR-2016-140\nLoading file SOR-2016-146\nLoading file SOR-2016-148\nLoading file SOR-2016-151\n"
     ]
    },
    {
     "name": "stdout",
     "output_type": "stream",
     "text": [
      "Loading file SOR-2016-152\n"
     ]
    },
    {
     "name": "stdout",
     "output_type": "stream",
     "text": [
      "Loading file SOR-2016-155\nLoading file SOR-2016-164\nLoading file SOR-2016-165\nLoading file SOR-2016-166\nLoading file SOR-2016-167\nLoading file SOR-2016-168\nLoading file SOR-2016-169\nLoading file SOR-2016-172\nLoading file SOR-2016-173\nLoading file SOR-2016-174\nLoading file SOR-2016-175\n"
     ]
    },
    {
     "name": "stdout",
     "output_type": "stream",
     "text": [
      "Loading file SOR-2016-176\nLoading file SOR-2016-177\nLoading file SOR-2016-178\nLoading file SOR-2016-179\nLoading file SOR-2016-180\nLoading file SOR-2016-181\nLoading file SOR-2016-182\nLoading file SOR-2016-183\nLoading file SOR-2016-184\nLoading file SOR-2016-185\nLoading file SOR-2016-186\nLoading file SOR-2016-187\nLoading file SOR-2016-188\nLoading file SOR-2016-189\n"
     ]
    },
    {
     "name": "stdout",
     "output_type": "stream",
     "text": [
      "Loading file SOR-2016-19\nLoading file SOR-2016-190\nLoading file SOR-2016-191\nLoading file SOR-2016-192\nLoading file SOR-2016-193\nLoading file SOR-2016-194\nLoading file SOR-2016-20\nLoading file SOR-2016-208\nLoading file SOR-2016-21\nLoading file SOR-2016-211\n"
     ]
    },
    {
     "name": "stdout",
     "output_type": "stream",
     "text": [
      "Loading file SOR-2016-22\nLoading file SOR-2016-23\nLoading file SOR-2016-230\nLoading file SOR-2016-231\nLoading file SOR-2016-236\nLoading file SOR-2016-24\nLoading file SOR-2016-244\nLoading file SOR-2016-25\nLoading file SOR-2016-26\nLoading file SOR-2016-260\nLoading file SOR-2016-280\n"
     ]
    },
    {
     "name": "stdout",
     "output_type": "stream",
     "text": [
      "Loading file SOR-2016-281\nLoading file SOR-2016-283\nLoading file SOR-2016-297\nLoading file SOR-2016-307\nLoading file SOR-2016-311\n"
     ]
    },
    {
     "name": "stdout",
     "output_type": "stream",
     "text": [
      "Loading file SOR-2016-317\nLoading file SOR-2016-42\nLoading file SOR-2016-43\nLoading file SOR-2016-48\nLoading file SOR-2016-49\nLoading file SOR-2016-5\nLoading file SOR-2016-62\nLoading file SOR-2016-70\nLoading file SOR-2016-76\nLoading file SOR-2016-77\n"
     ]
    },
    {
     "name": "stdout",
     "output_type": "stream",
     "text": [
      "Loading file SOR-2016-81\nLoading file SOR-2016-82\nLoading file SOR-2016-83\nLoading file SOR-2016-84\nLoading file SOR-2016-85\nLoading file SOR-2016-86\nLoading file SOR-2016-88\nLoading file SOR-2016-93\nLoading file SOR-2017-1\nLoading file SOR-2017-103\nLoading file SOR-2017-106\nLoading file SOR-2017-107\n"
     ]
    },
    {
     "name": "stdout",
     "output_type": "stream",
     "text": [
      "Loading file SOR-2017-108\nLoading file SOR-2017-109\nLoading file SOR-2017-111\nLoading file SOR-2017-121\nLoading file SOR-2017-14\n"
     ]
    },
    {
     "name": "stdout",
     "output_type": "stream",
     "text": [
      "Loading file SOR-2017-140\nLoading file SOR-2017-141\nLoading file SOR-2017-142\nLoading file SOR-2017-15\nLoading file SOR-2017-159\nLoading file SOR-2017-162\nLoading file SOR-2017-165\nLoading file SOR-2017-170\nLoading file SOR-2017-173\nLoading file SOR-2017-174\nLoading file SOR-2017-175\n"
     ]
    },
    {
     "name": "stdout",
     "output_type": "stream",
     "text": [
      "Loading file SOR-2017-176\nLoading file SOR-2017-177\nLoading file SOR-2017-178\nLoading file SOR-2017-200\nLoading file SOR-2017-201\n"
     ]
    },
    {
     "name": "stdout",
     "output_type": "stream",
     "text": [
      "Loading file SOR-2017-204\nLoading file SOR-2017-205\nLoading file SOR-2017-222\nLoading file SOR-2017-232\nLoading file SOR-2017-233\nLoading file SOR-2017-245\nLoading file SOR-2017-262\nLoading file SOR-2017-263\nLoading file SOR-2017-264\nLoading file SOR-2017-265\nLoading file SOR-2017-266\nLoading file SOR-2017-267\nLoading file SOR-2017-28\nLoading file SOR-2017-286\n"
     ]
    },
    {
     "name": "stdout",
     "output_type": "stream",
     "text": [
      "Loading file SOR-2017-40\nLoading file SOR-2017-47\nLoading file SOR-2017-61\nLoading file SOR-2017-73\nLoading file SOR-2017-87\nLoading file SOR-2017-9\nLoading file SOR-2018-108\n"
     ]
    },
    {
     "name": "stdout",
     "output_type": "stream",
     "text": [
      "Loading file SOR-2018-119\nLoading file SOR-2018-120\nLoading file SOR-2018-133\nLoading file SOR-2018-14\nLoading file SOR-2018-142\nLoading file SOR-2018-143\nLoading file SOR-2018-144\n"
     ]
    },
    {
     "name": "stdout",
     "output_type": "stream",
     "text": [
      "Loading file SOR-2018-145\nLoading file SOR-2018-146\nLoading file SOR-2018-148\nLoading file SOR-2018-151\nLoading file SOR-2018-152\nLoading file SOR-2018-153\nLoading file SOR-2018-156\nLoading file SOR-2018-157\nLoading file SOR-2018-158\nLoading file SOR-2018-159\nLoading file SOR-2018-166\n"
     ]
    },
    {
     "name": "stdout",
     "output_type": "stream",
     "text": [
      "Loading file SOR-2018-167\nLoading file SOR-2018-168\nLoading file SOR-2018-169\nLoading file SOR-2018-176\nLoading file SOR-2018-178\nLoading file SOR-2018-179\nLoading file SOR-2018-182\nLoading file SOR-2018-183\nLoading file SOR-2018-186\n"
     ]
    },
    {
     "name": "stdout",
     "output_type": "stream",
     "text": [
      "Loading file SOR-2018-194\nLoading file SOR-2018-196\nLoading file SOR-2018-198\nLoading file SOR-2018-203\nLoading file SOR-2018-205\nLoading file SOR-2018-206\nLoading file SOR-2018-208\nLoading file SOR-2018-209\nLoading file SOR-2018-213\n"
     ]
    },
    {
     "name": "stdout",
     "output_type": "stream",
     "text": [
      "Loading file SOR-2018-214\nLoading file SOR-2018-217\n"
     ]
    },
    {
     "name": "stdout",
     "output_type": "stream",
     "text": [
      "Loading file SOR-2018-27\nLoading file SOR-2018-35\nLoading file SOR-2018-36\nLoading file SOR-2018-46\nLoading file SOR-2018-47\nLoading file SOR-2018-57\nLoading file SOR-2018-58\nLoading file SOR-2018-59\nLoading file SOR-2018-64\nLoading file SOR-2018-66\n"
     ]
    },
    {
     "name": "stdout",
     "output_type": "stream",
     "text": [
      "Loading file SOR-2018-75\nLoading file SOR-2018-82\nLoading file SOR-2018-83\nLoading file SOR-49-42\nLoading file SOR-51-84\nLoading file SOR-54-578\nLoading file SOR-54-743\nLoading file SOR-55-416\n"
     ]
    },
    {
     "name": "stdout",
     "output_type": "stream",
     "text": [
      "Loading file SOR-56-290\nLoading file SOR-57-176\nLoading file SOR-57-216\nLoading file SOR-58-417\nLoading file SOR-60-481\nLoading file SOR-61-378\nLoading file SOR-61-472\nLoading file SOR-61-507\nLoading file SOR-62-1\nLoading file SOR-62-91\nLoading file SOR-64-444\nLoading file SOR-65-262\nLoading file SOR-65-410\nLoading file SOR-66-506\n"
     ]
    },
    {
     "name": "stdout",
     "output_type": "stream",
     "text": [
      "Loading file SOR-66-78\nLoading file SOR-67-346\nLoading file SOR-67-56\nLoading file SOR-67-619\nLoading file SOR-70-527\nLoading file SOR-72-395\nLoading file SOR-72-90\nLoading file SOR-72-91\nLoading file SOR-73-558\nLoading file SOR-73-681\nLoading file SOR-73-71\nLoading file SOR-74-431\n"
     ]
    },
    {
     "name": "stdout",
     "output_type": "stream",
     "text": [
      "Loading file SOR-75-24\nLoading file SOR-76-40\nLoading file SOR-77-664\nLoading file SOR-77-665\nLoading file SOR-78-136\nLoading file SOR-78-145\nLoading file SOR-78-148\nLoading file SOR-78-151\nLoading file SOR-78-168\nLoading file SOR-78-204\nLoading file SOR-78-21\nLoading file SOR-78-213\nLoading file SOR-78-22\nLoading file SOR-78-223\n"
     ]
    },
    {
     "name": "stdout",
     "output_type": "stream",
     "text": [
      "Loading file SOR-78-286\nLoading file SOR-78-307\nLoading file SOR-78-373\nLoading file SOR-78-384\nLoading file SOR-78-415\nLoading file SOR-78-417\nLoading file SOR-78-442\nLoading file SOR-78-443\n"
     ]
    },
    {
     "name": "stdout",
     "output_type": "stream",
     "text": [
      "Loading file SOR-78-444\nLoading file SOR-78-445\nLoading file SOR-78-509\nLoading file SOR-78-587\nLoading file SOR-78-609\nLoading file SOR-78-657\nLoading file SOR-78-68\nLoading file SOR-78-73\nLoading file SOR-78-748\nLoading file SOR-78-767\nLoading file SOR-78-771\n"
     ]
    },
    {
     "name": "stdout",
     "output_type": "stream",
     "text": [
      "Loading file SOR-78-793\nLoading file SOR-78-830\nLoading file SOR-78-859\nLoading file SOR-78-860\nLoading file SOR-79-101\nLoading file SOR-79-108\nLoading file SOR-79-143\nLoading file SOR-79-15\nLoading file SOR-79-154\n"
     ]
    },
    {
     "name": "stdout",
     "output_type": "stream",
     "text": [
      "Loading file SOR-79-158\nLoading file SOR-79-276\nLoading file SOR-79-319\nLoading file SOR-79-373\nLoading file SOR-79-379\nLoading file SOR-79-398\nLoading file SOR-79-416\n"
     ]
    },
    {
     "name": "stdout",
     "output_type": "stream",
     "text": [
      "Loading file SOR-79-418\nLoading file SOR-79-430\nLoading file SOR-79-476\nLoading file SOR-79-477\nLoading file SOR-79-5\nLoading file SOR-79-538\nLoading file SOR-79-542\nLoading file SOR-79-554\nLoading file SOR-79-555\nLoading file SOR-79-613\nLoading file SOR-79-678\nLoading file SOR-79-72\nLoading file SOR-79-727\nLoading file SOR-79-732\nLoading file SOR-79-817\nLoading file SOR-79-818\nLoading file SOR-79-82\nLoading file SOR-79-840\n"
     ]
    },
    {
     "name": "stdout",
     "output_type": "stream",
     "text": [
      "Loading file SOR-80-127\nLoading file SOR-80-167\nLoading file SOR-80-175\nLoading file SOR-80-176\nLoading file SOR-80-182\nLoading file SOR-80-183\nLoading file SOR-80-217\nLoading file SOR-80-260\nLoading file SOR-80-310\n"
     ]
    },
    {
     "name": "stdout",
     "output_type": "stream",
     "text": [
      "Loading file SOR-80-325\nLoading file SOR-80-328\nLoading file SOR-80-336\nLoading file SOR-80-337\nLoading file SOR-80-352\nLoading file SOR-80-394\nLoading file SOR-80-482\nLoading file SOR-80-515\nLoading file SOR-80-531\nLoading file SOR-80-55\nLoading file SOR-80-587\nLoading file SOR-80-629\nLoading file SOR-80-64\nLoading file SOR-80-647\nLoading file SOR-80-68\n"
     ]
    },
    {
     "name": "stdout",
     "output_type": "stream",
     "text": [
      "Loading file SOR-80-686\nLoading file SOR-80-726\nLoading file SOR-80-748\nLoading file SOR-80-76\nLoading file SOR-80-803\nLoading file SOR-80-810\nLoading file SOR-80-82\nLoading file SOR-80-831\nLoading file SOR-80-9\nLoading file SOR-80-902\nLoading file SOR-80-946\nLoading file SOR-80-957\nLoading file SOR-81-1030\n"
     ]
    },
    {
     "name": "stdout",
     "output_type": "stream",
     "text": [
      "Loading file SOR-81-1034\nLoading file SOR-81-122\nLoading file SOR-81-145\nLoading file SOR-81-167\nLoading file SOR-81-226\nLoading file SOR-81-235\nLoading file SOR-81-29\nLoading file SOR-81-295\nLoading file SOR-81-319\nLoading file SOR-81-33a\nLoading file SOR-81-33b\nLoading file SOR-81-364\nLoading file SOR-81-375\nLoading file SOR-81-401\n"
     ]
    },
    {
     "name": "stdout",
     "output_type": "stream",
     "text": [
      "Loading file SOR-81-403\nLoading file SOR-81-452\nLoading file SOR-81-456\nLoading file SOR-81-472\nLoading file SOR-81-49\nLoading file SOR-81-515\nLoading file SOR-81-543\nLoading file SOR-81-547\nLoading file SOR-81-549\nLoading file SOR-81-552\nLoading file SOR-81-567\nLoading file SOR-81-568\nLoading file SOR-81-569\nLoading file SOR-81-609\nLoading file SOR-81-613\n"
     ]
    },
    {
     "name": "stdout",
     "output_type": "stream",
     "text": [
      "Loading file SOR-81-677\nLoading file SOR-81-690\nLoading file SOR-81-693\nLoading file SOR-81-701\nLoading file SOR-81-706\nLoading file SOR-81-707\nLoading file SOR-81-708\nLoading file SOR-81-710\nLoading file SOR-81-745\nLoading file SOR-81-798\nLoading file SOR-81-81\nLoading file SOR-81-850\n"
     ]
    },
    {
     "name": "stdout",
     "output_type": "stream",
     "text": [
      "Loading file SOR-81-907\nLoading file SOR-81-916\nLoading file SOR-81-948\nLoading file SOR-81-951\nLoading file SOR-82-1015\nLoading file SOR-82-1038\nLoading file SOR-82-16\nLoading file SOR-82-17\nLoading file SOR-82-186\nLoading file SOR-82-207\nLoading file SOR-82-215\nLoading file SOR-82-263\n"
     ]
    },
    {
     "name": "stdout",
     "output_type": "stream",
     "text": [
      "Loading file SOR-82-276\nLoading file SOR-82-281\nLoading file SOR-82-296\nLoading file SOR-82-359\nLoading file SOR-82-361a\nLoading file SOR-82-361b\nLoading file SOR-82-381\nLoading file SOR-82-405\nLoading file SOR-82-42\nLoading file SOR-82-448\nLoading file SOR-82-464\nLoading file SOR-82-468\nLoading file SOR-82-480\nLoading file SOR-82-494\nLoading file SOR-82-498\nLoading file SOR-82-503\n"
     ]
    },
    {
     "name": "stdout",
     "output_type": "stream",
     "text": [
      "Loading file SOR-82-550\nLoading file SOR-82-572\nLoading file SOR-82-602\nLoading file SOR-82-611\nLoading file SOR-82-627\nLoading file SOR-82-641\nLoading file SOR-82-676\nLoading file SOR-82-710\nLoading file SOR-82-712\nLoading file SOR-82-719\nLoading file SOR-82-791\nLoading file SOR-82-832\nLoading file SOR-82-840\n"
     ]
    },
    {
     "name": "stdout",
     "output_type": "stream",
     "text": [
      "Loading file SOR-82-896\nLoading file SOR-82-926\nLoading file SOR-82-956\nLoading file SOR-82-995\nLoading file SOR-82-996\nLoading file SOR-83-148\nLoading file SOR-83-149\nLoading file SOR-83-172\nLoading file SOR-83-188\nLoading file SOR-83-190\n"
     ]
    },
    {
     "name": "stdout",
     "output_type": "stream",
     "text": [
      "Loading file SOR-83-191\nLoading file SOR-83-196\nLoading file SOR-83-201\nLoading file SOR-83-212\nLoading file SOR-83-214\nLoading file SOR-83-253\nLoading file SOR-83-461\nLoading file SOR-83-481\nLoading file SOR-83-507\nLoading file SOR-83-508\n"
     ]
    },
    {
     "name": "stdout",
     "output_type": "stream",
     "text": [
      "Loading file SOR-83-509\nLoading file SOR-83-549\nLoading file SOR-83-553\nLoading file SOR-83-581\nLoading file SOR-83-593\n"
     ]
    },
    {
     "name": "stdout",
     "output_type": "stream",
     "text": [
      "Loading file SOR-83-599\nLoading file SOR-83-606\nLoading file SOR-83-607\nLoading file SOR-83-608\nLoading file SOR-83-674\nLoading file SOR-83-677\n"
     ]
    },
    {
     "name": "stdout",
     "output_type": "stream",
     "text": [
      "Loading file SOR-83-680\nLoading file SOR-83-681\nLoading file SOR-83-713\nLoading file SOR-83-722\nLoading file SOR-83-736\nLoading file SOR-83-743\nLoading file SOR-83-748\nLoading file SOR-83-784\nLoading file SOR-83-79\nLoading file SOR-83-807\nLoading file SOR-83-810\nLoading file SOR-83-813\nLoading file SOR-83-856\nLoading file SOR-83-96\n"
     ]
    },
    {
     "name": "stdout",
     "output_type": "stream",
     "text": [
      "Loading file SOR-84-1\nLoading file SOR-84-125\nLoading file SOR-84-127\nLoading file SOR-84-155\nLoading file SOR-84-156\nLoading file SOR-84-158\nLoading file SOR-84-159\nLoading file SOR-84-190\nLoading file SOR-84-20\nLoading file SOR-84-21\nLoading file SOR-84-22\nLoading file SOR-84-23\nLoading file SOR-84-24\nLoading file SOR-84-25\nLoading file SOR-84-253\nLoading file SOR-84-26\nLoading file SOR-84-27\nLoading file SOR-84-271\nLoading file SOR-84-335\n"
     ]
    },
    {
     "name": "stdout",
     "output_type": "stream",
     "text": [
      "Loading file SOR-84-349\nLoading file SOR-84-360\nLoading file SOR-84-383\nLoading file SOR-84-394\nLoading file SOR-84-409\nLoading file SOR-84-431\n"
     ]
    },
    {
     "name": "stdout",
     "output_type": "stream",
     "text": [
      "Loading file SOR-84-432\nLoading file SOR-84-435\nLoading file SOR-84-48\n"
     ]
    },
    {
     "name": "stdout",
     "output_type": "stream",
     "text": [
      "Loading file SOR-84-5\nLoading file SOR-84-567\nLoading file SOR-84-592\nLoading file SOR-84-665\nLoading file SOR-84-686\nLoading file SOR-84-707\nLoading file SOR-84-708\nLoading file SOR-84-734\nLoading file SOR-84-764\nLoading file SOR-84-835\nLoading file SOR-84-848\nLoading file SOR-84-886\nLoading file SOR-84-901\n"
     ]
    },
    {
     "name": "stdout",
     "output_type": "stream",
     "text": [
      "Loading file SOR-84-927\n"
     ]
    },
    {
     "name": "stdout",
     "output_type": "stream",
     "text": [
      "Loading file SOR-84-962\nLoading file SOR-84-970\nLoading file SOR-84-972\nLoading file SOR-85-1003\nLoading file SOR-85-1033\nLoading file SOR-85-1034\nLoading file SOR-85-1035\nLoading file SOR-85-1084\nLoading file SOR-85-1117\nLoading file SOR-85-1134\nLoading file SOR-85-154\nLoading file SOR-85-156\nLoading file SOR-85-184\nLoading file SOR-85-188\nLoading file SOR-85-192\n"
     ]
    },
    {
     "name": "stdout",
     "output_type": "stream",
     "text": [
      "Loading file SOR-85-358\nLoading file SOR-85-379\nLoading file SOR-85-38\nLoading file SOR-85-401\nLoading file SOR-85-414\nLoading file SOR-85-514\nLoading file SOR-85-515\nLoading file SOR-85-533\nLoading file SOR-85-544\n"
     ]
    },
    {
     "name": "stdout",
     "output_type": "stream",
     "text": [
      "Loading file SOR-85-546\nLoading file SOR-85-567\nLoading file SOR-85-583\nLoading file SOR-85-611\nLoading file SOR-85-627\nLoading file SOR-85-658\nLoading file SOR-85-730\nLoading file SOR-85-781\n"
     ]
    },
    {
     "name": "stdout",
     "output_type": "stream",
     "text": [
      "Loading file SOR-85-846\nLoading file SOR-85-872\nLoading file SOR-85-900\nLoading file SOR-85-912\nLoading file SOR-86-1004\nLoading file SOR-86-1007\nLoading file SOR-86-1010\nLoading file SOR-86-1011\nLoading file SOR-86-1012\nLoading file SOR-86-1026\nLoading file SOR-86-1028\nLoading file SOR-86-1049\nLoading file SOR-86-1062\n"
     ]
    },
    {
     "name": "stdout",
     "output_type": "stream",
     "text": [
      "Loading file SOR-86-1064\nLoading file SOR-86-1065\nLoading file SOR-86-1066\nLoading file SOR-86-1067\nLoading file SOR-86-1070\n"
     ]
    },
    {
     "name": "stdout",
     "output_type": "stream",
     "text": [
      "Loading file SOR-86-1072\nLoading file SOR-86-1078\nLoading file SOR-86-108\nLoading file SOR-86-1082\nLoading file SOR-86-1111\nLoading file SOR-86-1121\nLoading file SOR-86-1123\nLoading file SOR-86-1127\nLoading file SOR-86-1135\nLoading file SOR-86-1140\n"
     ]
    },
    {
     "name": "stdout",
     "output_type": "stream",
     "text": [
      "Loading file SOR-86-131\nLoading file SOR-86-21\n"
     ]
    },
    {
     "name": "stdout",
     "output_type": "stream",
     "text": [
      "Loading file SOR-86-239\nLoading file SOR-86-259\nLoading file SOR-86-262\nLoading file SOR-86-28\nLoading file SOR-86-304\n"
     ]
    },
    {
     "name": "stdout",
     "output_type": "stream",
     "text": [
      "Loading file SOR-86-305\nLoading file SOR-86-345\nLoading file SOR-86-359\nLoading file SOR-86-360\nLoading file SOR-86-419\nLoading file SOR-86-438\nLoading file SOR-86-461\nLoading file SOR-86-475\nLoading file SOR-86-490\nLoading file SOR-86-501\nLoading file SOR-86-524\nLoading file SOR-86-547\nLoading file SOR-86-594\n"
     ]
    },
    {
     "name": "stdout",
     "output_type": "stream",
     "text": [
      "Loading file SOR-86-60\nLoading file SOR-86-600\nLoading file SOR-86-61\nLoading file SOR-86-631\nLoading file SOR-86-669\nLoading file SOR-86-687\nLoading file SOR-86-750\nLoading file SOR-86-766\nLoading file SOR-86-787\nLoading file SOR-86-791\nLoading file SOR-86-792\n"
     ]
    },
    {
     "name": "stdout",
     "output_type": "stream",
     "text": [
      "Loading file SOR-86-8\nLoading file SOR-86-814\nLoading file SOR-86-868\nLoading file SOR-86-872\nLoading file SOR-86-873\nLoading file SOR-86-876\n"
     ]
    },
    {
     "name": "stdout",
     "output_type": "stream",
     "text": [
      "Loading file SOR-86-895\nLoading file SOR-86-922\nLoading file SOR-86-944\nLoading file SOR-86-946\nLoading file SOR-86-948\nLoading file SOR-86-951\nLoading file SOR-86-957\nLoading file SOR-86-958\nLoading file SOR-86-959\n"
     ]
    },
    {
     "name": "stdout",
     "output_type": "stream",
     "text": [
      "Loading file SOR-86-962\nLoading file SOR-86-972\nLoading file SOR-86-974\nLoading file SOR-86-982\nLoading file SOR-86-991\nLoading file SOR-87-100\nLoading file SOR-87-150\n"
     ]
    },
    {
     "name": "stdout",
     "output_type": "stream",
     "text": [
      "Loading file SOR-87-181\nLoading file SOR-87-182\nLoading file SOR-87-183\nLoading file SOR-87-184\n"
     ]
    },
    {
     "name": "stdout",
     "output_type": "stream",
     "text": [
      "Loading file SOR-87-19\n"
     ]
    },
    {
     "name": "stdout",
     "output_type": "stream",
     "text": [
      "Loading file SOR-87-196\nLoading file SOR-87-209\nLoading file SOR-87-210\nLoading file SOR-87-218\nLoading file SOR-87-220\nLoading file SOR-87-239\nLoading file SOR-87-24\nLoading file SOR-87-240\nLoading file SOR-87-242\nLoading file SOR-87-259\nLoading file SOR-87-272\nLoading file SOR-87-278\nLoading file SOR-87-286\nLoading file SOR-87-287\nLoading file SOR-87-315\nLoading file SOR-87-321\nLoading file SOR-87-322\nLoading file SOR-87-331\n"
     ]
    },
    {
     "name": "stdout",
     "output_type": "stream",
     "text": [
      "Loading file SOR-87-348\nLoading file SOR-87-375\nLoading file SOR-87-379\nLoading file SOR-87-40\nLoading file SOR-87-402\nLoading file SOR-87-403\nLoading file SOR-87-443\nLoading file SOR-87-449\nLoading file SOR-87-453\n"
     ]
    },
    {
     "name": "stdout",
     "output_type": "stream",
     "text": [
      "Loading file SOR-87-49\nLoading file SOR-87-505\nLoading file SOR-87-509\nLoading file SOR-87-516\n"
     ]
    },
    {
     "name": "stdout",
     "output_type": "stream",
     "text": [
      "Loading file SOR-87-543\nLoading file SOR-87-553\nLoading file SOR-87-58\nLoading file SOR-87-592\nLoading file SOR-87-602\nLoading file SOR-87-603\nLoading file SOR-87-604\nLoading file SOR-87-605\nLoading file SOR-87-612\n"
     ]
    },
    {
     "name": "stdout",
     "output_type": "stream",
     "text": [
      "Loading file SOR-87-631\nLoading file SOR-87-641\nLoading file SOR-87-663\nLoading file SOR-87-689\nLoading file SOR-87-7\nLoading file SOR-87-701\nLoading file SOR-87-705\nLoading file SOR-87-706\n"
     ]
    },
    {
     "name": "stdout",
     "output_type": "stream",
     "text": [
      "Loading file SOR-87-720\nLoading file SOR-87-731\nLoading file SOR-87-91\nLoading file SOR-87-95\nLoading file SOR-87-96\nLoading file SOR-88-101\nLoading file SOR-88-124\nLoading file SOR-88-125\nLoading file SOR-88-126\nLoading file SOR-88-148\nLoading file SOR-88-151\nLoading file SOR-88-174\nLoading file SOR-88-181\n"
     ]
    },
    {
     "name": "stdout",
     "output_type": "stream",
     "text": [
      "Loading file SOR-88-216\nLoading file SOR-88-230\nLoading file SOR-88-258\nLoading file SOR-88-262\nLoading file SOR-88-263\nLoading file SOR-88-288\nLoading file SOR-88-292\nLoading file SOR-88-307\nLoading file SOR-88-313\nLoading file SOR-88-315\nLoading file SOR-88-318\nLoading file SOR-88-332\n"
     ]
    },
    {
     "name": "stdout",
     "output_type": "stream",
     "text": [
      "Loading file SOR-88-333\nLoading file SOR-88-344\nLoading file SOR-88-347\nLoading file SOR-88-361\nLoading file SOR-88-362\nLoading file SOR-88-366\nLoading file SOR-88-367\nLoading file SOR-88-379\nLoading file SOR-88-381\nLoading file SOR-88-397\nLoading file SOR-88-398\nLoading file SOR-88-399\nLoading file SOR-88-400\nLoading file SOR-88-407\nLoading file SOR-88-41\nLoading file SOR-88-427\n"
     ]
    },
    {
     "name": "stdout",
     "output_type": "stream",
     "text": [
      "Loading file SOR-88-430\nLoading file SOR-88-447\nLoading file SOR-88-450\nLoading file SOR-88-456\nLoading file SOR-88-464\nLoading file SOR-88-465\nLoading file SOR-88-467\n"
     ]
    },
    {
     "name": "stdout",
     "output_type": "stream",
     "text": [
      "Loading file SOR-88-484\nLoading file SOR-88-485\nLoading file SOR-88-500\nLoading file SOR-88-501\nLoading file SOR-88-502\nLoading file SOR-88-503\nLoading file SOR-88-504\nLoading file SOR-88-509\nLoading file SOR-88-514\nLoading file SOR-88-518\n"
     ]
    },
    {
     "name": "stdout",
     "output_type": "stream",
     "text": [
      "Loading file SOR-88-522\nLoading file SOR-88-527\nLoading file SOR-88-528\nLoading file SOR-88-529\nLoading file SOR-88-532\nLoading file SOR-88-574\nLoading file SOR-88-575\nLoading file SOR-88-576\nLoading file SOR-88-577\nLoading file SOR-88-58\n"
     ]
    },
    {
     "name": "stdout",
     "output_type": "stream",
     "text": [
      "Loading file SOR-88-590\nLoading file SOR-88-591\nLoading file SOR-88-592\nLoading file SOR-88-593\nLoading file SOR-88-595\nLoading file SOR-88-599\nLoading file SOR-88-600\n"
     ]
    },
    {
     "name": "stdout",
     "output_type": "stream",
     "text": [
      "Loading file SOR-88-601\nLoading file SOR-88-64\nLoading file SOR-88-652\nLoading file SOR-88-66\nLoading file SOR-88-71\nLoading file SOR-88-79\nLoading file SOR-89-106\nLoading file SOR-89-131\nLoading file SOR-89-132\nLoading file SOR-89-133\nLoading file SOR-89-134\nLoading file SOR-89-187\nLoading file SOR-89-19\nLoading file SOR-89-202\n"
     ]
    },
    {
     "name": "stdout",
     "output_type": "stream",
     "text": [
      "Loading file SOR-89-206\nLoading file SOR-89-207\nLoading file SOR-89-221\nLoading file SOR-89-222\nLoading file SOR-89-225\nLoading file SOR-89-235\nLoading file SOR-89-236\nLoading file SOR-89-254\nLoading file SOR-89-255\nLoading file SOR-89-265\nLoading file SOR-89-297\nLoading file SOR-89-298\nLoading file SOR-89-30a\nLoading file SOR-89-30b\nLoading file SOR-89-31\n"
     ]
    },
    {
     "name": "stdout",
     "output_type": "stream",
     "text": [
      "Loading file SOR-89-331\nLoading file SOR-89-332\nLoading file SOR-89-348a\nLoading file SOR-89-348b\nLoading file SOR-89-35\nLoading file SOR-89-36\nLoading file SOR-89-408\nLoading file SOR-89-41\n"
     ]
    },
    {
     "name": "stdout",
     "output_type": "stream",
     "text": [
      "Loading file SOR-89-421\nLoading file SOR-89-427\nLoading file SOR-89-440\nLoading file SOR-89-445\nLoading file SOR-89-446\nLoading file SOR-89-469\nLoading file SOR-89-488\nLoading file SOR-89-501\nLoading file SOR-89-512\nLoading file SOR-89-514\nLoading file SOR-89-533\nLoading file SOR-89-538\nLoading file SOR-89-547\nLoading file SOR-89-58\nLoading file SOR-89-70\nLoading file SOR-89-71\nLoading file SOR-89-93\n"
     ]
    },
    {
     "name": "stdout",
     "output_type": "stream",
     "text": [
      "Loading file SOR-89-98\nLoading file SOR-89-99\nLoading file SOR-90-10\nLoading file SOR-90-105\nLoading file SOR-90-106\nLoading file SOR-90-115\nLoading file SOR-90-116\nLoading file SOR-90-130\nLoading file SOR-90-149\nLoading file SOR-90-151\nLoading file SOR-90-158\nLoading file SOR-90-162\nLoading file SOR-90-163\nLoading file SOR-90-164\n"
     ]
    },
    {
     "name": "stdout",
     "output_type": "stream",
     "text": [
      "Loading file SOR-90-21\nLoading file SOR-90-214\n"
     ]
    },
    {
     "name": "stdout",
     "output_type": "stream",
     "text": [
      "Loading file SOR-90-225\nLoading file SOR-90-231\nLoading file SOR-90-234\nLoading file SOR-90-245\nLoading file SOR-90-247\nLoading file SOR-90-264\n"
     ]
    },
    {
     "name": "stdout",
     "output_type": "stream",
     "text": [
      "Loading file SOR-90-288\n"
     ]
    },
    {
     "name": "stdout",
     "output_type": "stream",
     "text": [
      "Loading file SOR-90-289\nLoading file SOR-90-297\nLoading file SOR-90-301\nLoading file SOR-90-303\nLoading file SOR-90-304\nLoading file SOR-90-341\nLoading file SOR-90-351\n"
     ]
    },
    {
     "name": "stdout",
     "output_type": "stream",
     "text": [
      "Loading file SOR-90-358\nLoading file SOR-90-375\nLoading file SOR-90-377\nLoading file SOR-90-379\nLoading file SOR-90-39\nLoading file SOR-90-399\nLoading file SOR-90-406\nLoading file SOR-90-430\nLoading file SOR-90-45\nLoading file SOR-90-46\nLoading file SOR-90-5\nLoading file SOR-90-530\nLoading file SOR-90-54\nLoading file SOR-90-58\nLoading file SOR-90-59\nLoading file SOR-90-594\n"
     ]
    },
    {
     "name": "stdout",
     "output_type": "stream",
     "text": [
      "Loading file SOR-90-610\nLoading file SOR-90-631\nLoading file SOR-90-672\nLoading file SOR-90-688a\n"
     ]
    },
    {
     "name": "stdout",
     "output_type": "stream",
     "text": [
      "Loading file SOR-90-688b\nLoading file SOR-90-689\nLoading file SOR-90-690\n"
     ]
    },
    {
     "name": "stdout",
     "output_type": "stream",
     "text": [
      "Loading file SOR-90-700\nLoading file SOR-90-706\nLoading file SOR-90-729\nLoading file SOR-90-739\nLoading file SOR-90-763\nLoading file SOR-90-774\nLoading file SOR-90-791\nLoading file SOR-90-793\nLoading file SOR-90-794\nLoading file SOR-90-818\nLoading file SOR-90-97\n"
     ]
    },
    {
     "name": "stdout",
     "output_type": "stream",
     "text": [
      "Loading file SOR-90-98\nLoading file SOR-91-101\nLoading file SOR-91-103\nLoading file SOR-91-104\nLoading file SOR-91-107\nLoading file SOR-91-122\nLoading file SOR-91-134\nLoading file SOR-91-152\nLoading file SOR-91-155\nLoading file SOR-91-168\nLoading file SOR-91-171\nLoading file SOR-91-172\nLoading file SOR-91-173\n"
     ]
    },
    {
     "name": "stdout",
     "output_type": "stream",
     "text": [
      "Loading file SOR-91-19\nLoading file SOR-91-2\nLoading file SOR-91-20\nLoading file SOR-91-21\nLoading file SOR-91-23\nLoading file SOR-91-24\nLoading file SOR-91-242\nLoading file SOR-91-243\nLoading file SOR-91-25\nLoading file SOR-91-253\nLoading file SOR-91-26\nLoading file SOR-91-27\nLoading file SOR-91-28\n"
     ]
    },
    {
     "name": "stdout",
     "output_type": "stream",
     "text": [
      "Loading file SOR-91-29\nLoading file SOR-91-3\nLoading file SOR-91-30\nLoading file SOR-91-31\nLoading file SOR-91-315\nLoading file SOR-91-32\nLoading file SOR-91-33\nLoading file SOR-91-34\nLoading file SOR-91-36\nLoading file SOR-91-365\n"
     ]
    },
    {
     "name": "stdout",
     "output_type": "stream",
     "text": [
      "Loading file SOR-91-37\nLoading file SOR-91-38\nLoading file SOR-91-39\nLoading file SOR-91-4\n"
     ]
    },
    {
     "name": "stdout",
     "output_type": "stream",
     "text": [
      "Loading file SOR-91-403\nLoading file SOR-91-41\nLoading file SOR-91-412\nLoading file SOR-91-42\nLoading file SOR-91-43\nLoading file SOR-91-44\nLoading file SOR-91-444\nLoading file SOR-91-45\nLoading file SOR-91-457\nLoading file SOR-91-484\nLoading file SOR-91-486\nLoading file SOR-91-488\nLoading file SOR-91-49\n"
     ]
    },
    {
     "name": "stdout",
     "output_type": "stream",
     "text": [
      "Loading file SOR-91-499\n"
     ]
    },
    {
     "name": "stdout",
     "output_type": "stream",
     "text": [
      "Loading file SOR-91-51\n"
     ]
    },
    {
     "name": "stdout",
     "output_type": "stream",
     "text": [
      "Loading file SOR-91-519\nLoading file SOR-91-52\nLoading file SOR-91-53\nLoading file SOR-91-548\nLoading file SOR-91-575\nLoading file SOR-91-594\nLoading file SOR-91-604\nLoading file SOR-91-620\nLoading file SOR-91-659\nLoading file SOR-91-661\nLoading file SOR-91-690\nLoading file SOR-91-696\nLoading file SOR-91-7\n"
     ]
    },
    {
     "name": "stdout",
     "output_type": "stream",
     "text": [
      "Loading file SOR-91-714\nLoading file SOR-91-74\nLoading file SOR-91-75\nLoading file SOR-91-8\nLoading file SOR-91-84\nLoading file SOR-91-86\nLoading file SOR-91-94\nLoading file SOR-92-100\n"
     ]
    },
    {
     "name": "stdout",
     "output_type": "stream",
     "text": [
      "Loading file SOR-92-118\nLoading file SOR-92-142\nLoading file SOR-92-156\nLoading file SOR-92-19\nLoading file SOR-92-201a\nLoading file SOR-92-201b\nLoading file SOR-92-21\nLoading file SOR-92-210\nLoading file SOR-92-22\nLoading file SOR-92-239\nLoading file SOR-92-25\n"
     ]
    },
    {
     "name": "stdout",
     "output_type": "stream",
     "text": [
      "Loading file SOR-92-256\nLoading file SOR-92-257\nLoading file SOR-92-26\nLoading file SOR-92-260\nLoading file SOR-92-263\nLoading file SOR-92-267\nLoading file SOR-92-268\n"
     ]
    },
    {
     "name": "stdout",
     "output_type": "stream",
     "text": [
      "Loading file SOR-92-269\n"
     ]
    },
    {
     "name": "stdout",
     "output_type": "stream",
     "text": [
      "Loading file SOR-92-270\nLoading file SOR-92-272\nLoading file SOR-92-274\nLoading file SOR-92-276\nLoading file SOR-92-277\nLoading file SOR-92-278\nLoading file SOR-92-279\nLoading file SOR-92-280\nLoading file SOR-92-281\nLoading file SOR-92-282\nLoading file SOR-92-283\nLoading file SOR-92-284\nLoading file SOR-92-285\nLoading file SOR-92-293\nLoading file SOR-92-296\nLoading file SOR-92-297\nLoading file SOR-92-298\nLoading file SOR-92-299\nLoading file SOR-92-301\n"
     ]
    },
    {
     "name": "stdout",
     "output_type": "stream",
     "text": [
      "Loading file SOR-92-302\nLoading file SOR-92-306\nLoading file SOR-92-307\nLoading file SOR-92-308\nLoading file SOR-92-309\nLoading file SOR-92-313\nLoading file SOR-92-314\nLoading file SOR-92-315\nLoading file SOR-92-321\nLoading file SOR-92-322\nLoading file SOR-92-324\nLoading file SOR-92-325\nLoading file SOR-92-326\nLoading file SOR-92-327\nLoading file SOR-92-328\nLoading file SOR-92-330\n"
     ]
    },
    {
     "name": "stdout",
     "output_type": "stream",
     "text": [
      "Loading file SOR-92-331\nLoading file SOR-92-343\nLoading file SOR-92-349\nLoading file SOR-92-350\nLoading file SOR-92-352\nLoading file SOR-92-353\nLoading file SOR-92-354\nLoading file SOR-92-356\nLoading file SOR-92-383\nLoading file SOR-92-414\nLoading file SOR-92-42\n"
     ]
    },
    {
     "name": "stdout",
     "output_type": "stream",
     "text": [
      "Loading file SOR-92-433\nLoading file SOR-92-446\nLoading file SOR-92-478\nLoading file SOR-92-48\nLoading file SOR-92-502\nLoading file SOR-92-507\nLoading file SOR-92-514\nLoading file SOR-92-520\nLoading file SOR-92-528\n"
     ]
    },
    {
     "name": "stdout",
     "output_type": "stream",
     "text": [
      "Loading file SOR-92-529\nLoading file SOR-92-530\nLoading file SOR-92-531\nLoading file SOR-92-535\nLoading file SOR-92-541\n"
     ]
    },
    {
     "name": "stdout",
     "output_type": "stream",
     "text": [
      "Loading file SOR-92-584\nLoading file SOR-92-608\nLoading file SOR-92-620\n"
     ]
    },
    {
     "name": "stdout",
     "output_type": "stream",
     "text": [
      "Loading file SOR-92-631\nLoading file SOR-92-636\nLoading file SOR-92-648\nLoading file SOR-92-649\nLoading file SOR-92-67\nLoading file SOR-92-676\nLoading file SOR-92-677\nLoading file SOR-92-68\nLoading file SOR-92-688\nLoading file SOR-92-69\nLoading file SOR-92-745\nLoading file SOR-92-91\nLoading file SOR-93-108\nLoading file SOR-93-12\n"
     ]
    },
    {
     "name": "stdout",
     "output_type": "stream",
     "text": [
      "Loading file SOR-93-124\nLoading file SOR-93-133\nLoading file SOR-93-139a\nLoading file SOR-93-139b\nLoading file SOR-93-154\nLoading file SOR-93-169\n"
     ]
    },
    {
     "name": "stdout",
     "output_type": "stream",
     "text": [
      "Loading file SOR-93-17\nLoading file SOR-93-172a\nLoading file SOR-93-172b\nLoading file SOR-93-194\nLoading file SOR-93-195\nLoading file SOR-93-212\nLoading file SOR-93-22\n"
     ]
    },
    {
     "name": "stdout",
     "output_type": "stream",
     "text": [
      "Loading file SOR-93-220\nLoading file SOR-93-23\nLoading file SOR-93-246\nLoading file SOR-93-264\nLoading file SOR-93-272\nLoading file SOR-93-282\nLoading file SOR-93-293\n"
     ]
    },
    {
     "name": "stdout",
     "output_type": "stream",
     "text": [
      "Loading file SOR-93-294\nLoading file SOR-93-295\nLoading file SOR-93-3\nLoading file SOR-93-303\nLoading file SOR-93-306\nLoading file SOR-93-312\nLoading file SOR-93-313\nLoading file SOR-93-325\nLoading file SOR-93-326\nLoading file SOR-93-327\nLoading file SOR-93-332\nLoading file SOR-93-348\n"
     ]
    },
    {
     "name": "stdout",
     "output_type": "stream",
     "text": [
      "Loading file SOR-93-365\nLoading file SOR-93-382\nLoading file SOR-93-384\nLoading file SOR-93-385\nLoading file SOR-93-387\nLoading file SOR-93-388\nLoading file SOR-93-391\nLoading file SOR-93-392\n"
     ]
    },
    {
     "name": "stdout",
     "output_type": "stream",
     "text": [
      "Loading file SOR-93-4\nLoading file SOR-93-408\nLoading file SOR-93-409\nLoading file SOR-93-410\nLoading file SOR-93-418\nLoading file SOR-93-420\nLoading file SOR-93-430\nLoading file SOR-93-436\nLoading file SOR-93-441\nLoading file SOR-93-45\nLoading file SOR-93-47\n"
     ]
    },
    {
     "name": "stdout",
     "output_type": "stream",
     "text": [
      "Loading file SOR-93-48\nLoading file SOR-93-480\nLoading file SOR-93-481\nLoading file SOR-93-482\nLoading file SOR-93-484\nLoading file SOR-93-485\nLoading file SOR-93-515\nLoading file SOR-93-516\nLoading file SOR-93-522\nLoading file SOR-93-523\nLoading file SOR-93-524\n"
     ]
    },
    {
     "name": "stdout",
     "output_type": "stream",
     "text": [
      "Loading file SOR-93-53\nLoading file SOR-93-536\nLoading file SOR-93-54\n"
     ]
    },
    {
     "name": "stdout",
     "output_type": "stream",
     "text": [
      "Loading file SOR-93-55\n"
     ]
    },
    {
     "name": "stdout",
     "output_type": "stream",
     "text": [
      "Loading file SOR-93-56\nLoading file SOR-93-580\nLoading file SOR-93-581\nLoading file SOR-93-587\nLoading file SOR-93-592\nLoading file SOR-93-593\nLoading file SOR-93-602\nLoading file SOR-93-608\n"
     ]
    },
    {
     "name": "stdout",
     "output_type": "stream",
     "text": [
      "Loading file SOR-93-610\nLoading file SOR-93-611\nLoading file SOR-93-612\nLoading file SOR-93-65\nLoading file SOR-93-74\nLoading file SOR-93-76\nLoading file SOR-93-9\nLoading file SOR-93-95a\nLoading file SOR-93-95b\nLoading file SOR-94-10\nLoading file SOR-94-117\nLoading file SOR-94-118\nLoading file SOR-94-119\nLoading file SOR-94-12\n"
     ]
    },
    {
     "name": "stdout",
     "output_type": "stream",
     "text": [
      "Loading file SOR-94-120\nLoading file SOR-94-121\nLoading file SOR-94-123\nLoading file SOR-94-14\n"
     ]
    },
    {
     "name": "stdout",
     "output_type": "stream",
     "text": [
      "Loading file SOR-94-142\nLoading file SOR-94-16\nLoading file SOR-94-168\nLoading file SOR-94-17\nLoading file SOR-94-225\nLoading file SOR-94-23\nLoading file SOR-94-241\nLoading file SOR-94-261\nLoading file SOR-94-27\n"
     ]
    },
    {
     "name": "stdout",
     "output_type": "stream",
     "text": [
      "Loading file SOR-94-281\nLoading file SOR-94-282\nLoading file SOR-94-290\nLoading file SOR-94-299\nLoading file SOR-94-300\nLoading file SOR-94-303\nLoading file SOR-94-334\nLoading file SOR-94-356\nLoading file SOR-94-386\nLoading file SOR-94-410\nLoading file SOR-94-42\n"
     ]
    },
    {
     "name": "stdout",
     "output_type": "stream",
     "text": [
      "Loading file SOR-94-463\nLoading file SOR-94-466\nLoading file SOR-94-478\nLoading file SOR-94-496\nLoading file SOR-94-501\nLoading file SOR-94-511\nLoading file SOR-94-537\nLoading file SOR-94-549\nLoading file SOR-94-556\nLoading file SOR-94-558\nLoading file SOR-94-562\nLoading file SOR-94-563\nLoading file SOR-94-565\nLoading file SOR-94-581\n"
     ]
    },
    {
     "name": "stdout",
     "output_type": "stream",
     "text": [
      "Loading file SOR-94-582\nLoading file SOR-94-591\nLoading file SOR-94-602\nLoading file SOR-94-612\nLoading file SOR-94-617\nLoading file SOR-94-626\nLoading file SOR-94-627\nLoading file SOR-94-628\nLoading file SOR-94-636\nLoading file SOR-94-637\n"
     ]
    },
    {
     "name": "stdout",
     "output_type": "stream",
     "text": [
      "Loading file SOR-94-638\nLoading file SOR-94-639\nLoading file SOR-94-651\nLoading file SOR-94-667\n"
     ]
    },
    {
     "name": "stdout",
     "output_type": "stream",
     "text": [
      "Loading file SOR-94-680\nLoading file SOR-94-688\nLoading file SOR-94-716\nLoading file SOR-94-719\nLoading file SOR-94-720\nLoading file SOR-94-721\nLoading file SOR-94-73\nLoading file SOR-94-734\nLoading file SOR-94-735\nLoading file SOR-94-74\nLoading file SOR-94-75\nLoading file SOR-94-752\nLoading file SOR-94-753\n"
     ]
    },
    {
     "name": "stdout",
     "output_type": "stream",
     "text": [
      "Loading file SOR-94-755\nLoading file SOR-94-76\nLoading file SOR-94-782\nLoading file SOR-94-785\n"
     ]
    },
    {
     "name": "stdout",
     "output_type": "stream",
     "text": [
      "Loading file SOR-94-789\nLoading file SOR-94-81\nLoading file SOR-95-100\nLoading file SOR-95-103\nLoading file SOR-95-104\n"
     ]
    },
    {
     "name": "stdout",
     "output_type": "stream",
     "text": [
      "Loading file SOR-95-123\nLoading file SOR-95-144\nLoading file SOR-95-148\nLoading file SOR-95-149\nLoading file SOR-95-152\nLoading file SOR-95-153a\nLoading file SOR-95-153b\nLoading file SOR-95-154\nLoading file SOR-95-157\nLoading file SOR-95-169\n"
     ]
    },
    {
     "name": "stdout",
     "output_type": "stream",
     "text": [
      "Loading file SOR-95-187\nLoading file SOR-95-189\nLoading file SOR-95-190\nLoading file SOR-95-191\n"
     ]
    },
    {
     "name": "stdout",
     "output_type": "stream",
     "text": [
      "Loading file SOR-95-196\nLoading file SOR-95-197\nLoading file SOR-95-199\nLoading file SOR-95-206\nLoading file SOR-95-208\nLoading file SOR-95-210\nLoading file SOR-95-212\n"
     ]
    },
    {
     "name": "stdout",
     "output_type": "stream",
     "text": [
      "Loading file SOR-95-22\nLoading file SOR-95-223\nLoading file SOR-95-226\nLoading file SOR-95-233\nLoading file SOR-95-245\nLoading file SOR-95-257\nLoading file SOR-95-275\nLoading file SOR-95-279\nLoading file SOR-95-280\nLoading file SOR-95-294\nLoading file SOR-95-295\nLoading file SOR-95-302\nLoading file SOR-95-31\nLoading file SOR-95-314\nLoading file SOR-95-319\n"
     ]
    },
    {
     "name": "stdout",
     "output_type": "stream",
     "text": [
      "Loading file SOR-95-320\nLoading file SOR-95-329\nLoading file SOR-95-334\n"
     ]
    },
    {
     "name": "stdout",
     "output_type": "stream",
     "text": [
      "Loading file SOR-95-340\nLoading file SOR-95-342\nLoading file SOR-95-345\nLoading file SOR-95-346\nLoading file SOR-95-347\nLoading file SOR-95-351\nLoading file SOR-95-36\nLoading file SOR-95-360\nLoading file SOR-95-37\nLoading file SOR-95-38\nLoading file SOR-95-380\nLoading file SOR-95-381\n"
     ]
    },
    {
     "name": "stdout",
     "output_type": "stream",
     "text": [
      "Loading file SOR-95-39\nLoading file SOR-95-396\nLoading file SOR-95-40\nLoading file SOR-95-400\nLoading file SOR-95-405\nLoading file SOR-95-406\n"
     ]
    },
    {
     "name": "stdout",
     "output_type": "stream",
     "text": [
      "Loading file SOR-95-41\nLoading file SOR-95-418\nLoading file SOR-95-42\nLoading file SOR-95-421\nLoading file SOR-95-424\nLoading file SOR-95-43\nLoading file SOR-95-44\nLoading file SOR-95-446\nLoading file SOR-95-465\n"
     ]
    },
    {
     "name": "stdout",
     "output_type": "stream",
     "text": [
      "Loading file SOR-95-479\nLoading file SOR-95-495\nLoading file SOR-95-500\nLoading file SOR-95-505\nLoading file SOR-95-506\nLoading file SOR-95-507\nLoading file SOR-95-508\nLoading file SOR-95-538\nLoading file SOR-95-545\nLoading file SOR-95-552\nLoading file SOR-95-558\nLoading file SOR-95-559\n"
     ]
    },
    {
     "name": "stdout",
     "output_type": "stream",
     "text": [
      "Loading file SOR-95-563\nLoading file SOR-95-579\nLoading file SOR-95-586\nLoading file SOR-95-588\nLoading file SOR-95-76\nLoading file SOR-95-82\nLoading file SOR-95-92\nLoading file SOR-96-114\nLoading file SOR-96-117\n"
     ]
    },
    {
     "name": "stdout",
     "output_type": "stream",
     "text": [
      "Loading file SOR-96-118\n"
     ]
    },
    {
     "name": "stdout",
     "output_type": "stream",
     "text": [
      "Loading file SOR-96-13\nLoading file SOR-96-133\nLoading file SOR-96-134\nLoading file SOR-96-137\nLoading file SOR-96-143\n"
     ]
    },
    {
     "name": "stdout",
     "output_type": "stream",
     "text": [
      "Loading file SOR-96-180\nLoading file SOR-96-186\nLoading file SOR-96-188\nLoading file SOR-96-194\nLoading file SOR-96-195\nLoading file SOR-96-201\n"
     ]
    },
    {
     "name": "stdout",
     "output_type": "stream",
     "text": [
      "Loading file SOR-96-202\nLoading file SOR-96-207\nLoading file SOR-96-244\nLoading file SOR-96-249\nLoading file SOR-96-254\n"
     ]
    },
    {
     "name": "stdout",
     "output_type": "stream",
     "text": [
      "Loading file SOR-96-263\n"
     ]
    },
    {
     "name": "stdout",
     "output_type": "stream",
     "text": [
      "Loading file SOR-96-275\nLoading file SOR-96-276\nLoading file SOR-96-277\nLoading file SOR-96-280\nLoading file SOR-96-295\nLoading file SOR-96-312\nLoading file SOR-96-313\n"
     ]
    },
    {
     "name": "stdout",
     "output_type": "stream",
     "text": [
      "Loading file SOR-96-317\nLoading file SOR-96-319\nLoading file SOR-96-320\nLoading file SOR-96-322\nLoading file SOR-96-332\n"
     ]
    },
    {
     "name": "stdout",
     "output_type": "stream",
     "text": [
      "Loading file SOR-96-334\nLoading file SOR-96-337\nLoading file SOR-96-338\nLoading file SOR-96-34\n"
     ]
    },
    {
     "name": "stdout",
     "output_type": "stream",
     "text": [
      "Loading file SOR-96-383\nLoading file SOR-96-389\nLoading file SOR-96-40\nLoading file SOR-96-401\nLoading file SOR-96-42\nLoading file SOR-96-423\n"
     ]
    },
    {
     "name": "stdout",
     "output_type": "stream",
     "text": [
      "Loading file SOR-96-433\n"
     ]
    },
    {
     "name": "stdout",
     "output_type": "stream",
     "text": [
      "Loading file SOR-96-44\nLoading file SOR-96-440\nLoading file SOR-96-445\nLoading file SOR-96-446\nLoading file SOR-96-453\nLoading file SOR-96-46\n"
     ]
    },
    {
     "name": "stdout",
     "output_type": "stream",
     "text": [
      "Loading file SOR-96-470\nLoading file SOR-96-479\nLoading file SOR-96-484\n"
     ]
    },
    {
     "name": "stdout",
     "output_type": "stream",
     "text": [
      "Loading file SOR-96-491\nLoading file SOR-96-5\nLoading file SOR-96-518\nLoading file SOR-96-542\nLoading file SOR-96-544\nLoading file SOR-96-6\nLoading file SOR-96-66\nLoading file SOR-96-67\nLoading file SOR-96-68\nLoading file SOR-96-78\nLoading file SOR-96-8\nLoading file SOR-96-93\n"
     ]
    },
    {
     "name": "stdout",
     "output_type": "stream",
     "text": [
      "Loading file SOR-97-10\nLoading file SOR-97-107\nLoading file SOR-97-109\nLoading file SOR-97-11\nLoading file SOR-97-121\nLoading file SOR-97-127\nLoading file SOR-97-130\nLoading file SOR-97-138\n"
     ]
    },
    {
     "name": "stdout",
     "output_type": "stream",
     "text": [
      "Loading file SOR-97-144\nLoading file SOR-97-150\nLoading file SOR-97-155\nLoading file SOR-97-164\nLoading file SOR-97-165\nLoading file SOR-97-173\nLoading file SOR-97-175\nLoading file SOR-97-180\nLoading file SOR-97-181\nLoading file SOR-97-192\n"
     ]
    },
    {
     "name": "stdout",
     "output_type": "stream",
     "text": [
      "Loading file SOR-97-194\nLoading file SOR-97-204\nLoading file SOR-97-229\nLoading file SOR-97-234\nLoading file SOR-97-237\nLoading file SOR-97-238\nLoading file SOR-97-239\nLoading file SOR-97-240\nLoading file SOR-97-291\nLoading file SOR-97-320\nLoading file SOR-97-321\nLoading file SOR-97-322\n"
     ]
    },
    {
     "name": "stdout",
     "output_type": "stream",
     "text": [
      "Loading file SOR-97-323\nLoading file SOR-97-326\nLoading file SOR-97-33\nLoading file SOR-97-332\nLoading file SOR-97-333\nLoading file SOR-97-340\n"
     ]
    },
    {
     "name": "stdout",
     "output_type": "stream",
     "text": [
      "Loading file SOR-97-344\nLoading file SOR-97-353\nLoading file SOR-97-375\nLoading file SOR-97-390\nLoading file SOR-97-391\nLoading file SOR-97-399\nLoading file SOR-97-424\nLoading file SOR-97-429\nLoading file SOR-97-449\nLoading file SOR-97-450\nLoading file SOR-97-457\nLoading file SOR-97-468\nLoading file SOR-97-473\n"
     ]
    },
    {
     "name": "stdout",
     "output_type": "stream",
     "text": [
      "Loading file SOR-97-479\nLoading file SOR-97-480\nLoading file SOR-97-493\nLoading file SOR-97-501\nLoading file SOR-97-503\nLoading file SOR-97-506\nLoading file SOR-97-540\nLoading file SOR-97-555\n"
     ]
    },
    {
     "name": "stdout",
     "output_type": "stream",
     "text": [
      "Loading file SOR-97-568\nLoading file SOR-97-569\nLoading file SOR-97-57\nLoading file SOR-97-58\nLoading file SOR-97-60\nLoading file SOR-97-61\nLoading file SOR-97-62\nLoading file SOR-97-63\n"
     ]
    },
    {
     "name": "stdout",
     "output_type": "stream",
     "text": [
      "Loading file SOR-97-64\nLoading file SOR-97-65\nLoading file SOR-97-71\nLoading file SOR-97-72\nLoading file SOR-97-75\nLoading file SOR-97-77\nLoading file SOR-97-80\nLoading file SOR-98-106\n"
     ]
    },
    {
     "name": "stdout",
     "output_type": "stream",
     "text": [
      "Loading file SOR-98-126\nLoading file SOR-98-127\nLoading file SOR-98-128\nLoading file SOR-98-129\nLoading file SOR-98-130\nLoading file SOR-98-135\nLoading file SOR-98-156\nLoading file SOR-98-159\nLoading file SOR-98-168\nLoading file SOR-98-176\nLoading file SOR-98-177\nLoading file SOR-98-179\nLoading file SOR-98-180\nLoading file SOR-98-181\nLoading file SOR-98-182\nLoading file SOR-98-188\nLoading file SOR-98-199\n"
     ]
    },
    {
     "name": "stdout",
     "output_type": "stream",
     "text": [
      "Loading file SOR-98-201\nLoading file SOR-98-202\nLoading file SOR-98-203\nLoading file SOR-98-204\nLoading file SOR-98-205\nLoading file SOR-98-206\nLoading file SOR-98-207\nLoading file SOR-98-208\nLoading file SOR-98-209\nLoading file SOR-98-210\n"
     ]
    },
    {
     "name": "stdout",
     "output_type": "stream",
     "text": [
      "Loading file SOR-98-211\nLoading file SOR-98-212\nLoading file SOR-98-213\nLoading file SOR-98-214\nLoading file SOR-98-215\nLoading file SOR-98-23\nLoading file SOR-98-230\nLoading file SOR-98-231\nLoading file SOR-98-245\nLoading file SOR-98-246\n"
     ]
    },
    {
     "name": "stdout",
     "output_type": "stream",
     "text": [
      "Loading file SOR-98-256\nLoading file SOR-98-261\nLoading file SOR-98-264\nLoading file SOR-98-265\nLoading file SOR-98-266\nLoading file SOR-98-277\nLoading file SOR-98-282\n"
     ]
    },
    {
     "name": "stdout",
     "output_type": "stream",
     "text": [
      "Loading file SOR-98-284\nLoading file SOR-98-288\nLoading file SOR-98-30\nLoading file SOR-98-307\nLoading file SOR-98-308\nLoading file SOR-98-32\nLoading file SOR-98-33\nLoading file SOR-98-337\nLoading file SOR-98-338\nLoading file SOR-98-34\nLoading file SOR-98-345\nLoading file SOR-98-348\nLoading file SOR-98-349\nLoading file SOR-98-35\nLoading file SOR-98-351\nLoading file SOR-98-36\nLoading file SOR-98-37\nLoading file SOR-98-38\nLoading file SOR-98-380\n"
     ]
    },
    {
     "name": "stdout",
     "output_type": "stream",
     "text": [
      "Loading file SOR-98-392\nLoading file SOR-98-4\nLoading file SOR-98-40\nLoading file SOR-98-400\nLoading file SOR-98-41\nLoading file SOR-98-414\nLoading file SOR-98-419\nLoading file SOR-98-42\nLoading file SOR-98-420\nLoading file SOR-98-429\n"
     ]
    },
    {
     "name": "stdout",
     "output_type": "stream",
     "text": [
      "Loading file SOR-98-432\nLoading file SOR-98-438\nLoading file SOR-98-44\nLoading file SOR-98-443\nLoading file SOR-98-445\nLoading file SOR-98-446\nLoading file SOR-98-447\nLoading file SOR-98-45\nLoading file SOR-98-455\nLoading file SOR-98-46\nLoading file SOR-98-461\nLoading file SOR-98-462\n"
     ]
    },
    {
     "name": "stdout",
     "output_type": "stream",
     "text": [
      "Loading file SOR-98-464\nLoading file SOR-98-465\nLoading file SOR-98-466\nLoading file SOR-98-467\nLoading file SOR-98-47\nLoading file SOR-98-474\nLoading file SOR-98-48\nLoading file SOR-98-488\nLoading file SOR-98-49\nLoading file SOR-98-5\nLoading file SOR-98-50\nLoading file SOR-98-52\n"
     ]
    },
    {
     "name": "stdout",
     "output_type": "stream",
     "text": [
      "Loading file SOR-98-536\nLoading file SOR-98-547\nLoading file SOR-98-56\nLoading file SOR-98-568\nLoading file SOR-98-569\nLoading file SOR-98-57\nLoading file SOR-98-570\nLoading file SOR-98-576\nLoading file SOR-98-578\nLoading file SOR-98-58\nLoading file SOR-98-59\nLoading file SOR-98-593\nLoading file SOR-98-594\nLoading file SOR-98-61\nLoading file SOR-98-86\nLoading file SOR-98-87\nLoading file SOR-98-88\n"
     ]
    },
    {
     "name": "stdout",
     "output_type": "stream",
     "text": [
      "Loading file SOR-98-89\nLoading file SOR-98-9\nLoading file SOR-98-90\nLoading file SOR-99-101\nLoading file SOR-99-114\nLoading file SOR-99-12\n"
     ]
    },
    {
     "name": "stdout",
     "output_type": "stream",
     "text": [
      "Loading file SOR-99-120\nLoading file SOR-99-122\nLoading file SOR-99-123\nLoading file SOR-99-128\n"
     ]
    },
    {
     "name": "stdout",
     "output_type": "stream",
     "text": [
      "Loading file SOR-99-129\nLoading file SOR-99-13\nLoading file SOR-99-141\nLoading file SOR-99-142\n"
     ]
    },
    {
     "name": "stdout",
     "output_type": "stream",
     "text": [
      "Loading file SOR-99-143\nLoading file SOR-99-144\nLoading file SOR-99-145\nLoading file SOR-99-148\nLoading file SOR-99-15\nLoading file SOR-99-175\nLoading file SOR-99-176\nLoading file SOR-99-177\nLoading file SOR-99-182\nLoading file SOR-99-190\nLoading file SOR-99-191\nLoading file SOR-99-194\nLoading file SOR-99-224\nLoading file SOR-99-234\n"
     ]
    },
    {
     "name": "stdout",
     "output_type": "stream",
     "text": [
      "Loading file SOR-99-236\nLoading file SOR-99-238\nLoading file SOR-99-244\nLoading file SOR-99-247\nLoading file SOR-99-253\nLoading file SOR-99-256\n"
     ]
    },
    {
     "name": "stdout",
     "output_type": "stream",
     "text": [
      "Loading file SOR-99-270\nLoading file SOR-99-272\nLoading file SOR-99-273\nLoading file SOR-99-275\nLoading file SOR-99-276\nLoading file SOR-99-278\nLoading file SOR-99-279\nLoading file SOR-99-294\n"
     ]
    },
    {
     "name": "stdout",
     "output_type": "stream",
     "text": [
      "Loading file SOR-99-295\nLoading file SOR-99-298\nLoading file SOR-99-3\nLoading file SOR-99-300\nLoading file SOR-99-308\nLoading file SOR-99-317\nLoading file SOR-99-318\nLoading file SOR-99-324\nLoading file SOR-99-325\nLoading file SOR-99-335\nLoading file SOR-99-348\nLoading file SOR-99-350\nLoading file SOR-99-381\n"
     ]
    },
    {
     "name": "stdout",
     "output_type": "stream",
     "text": [
      "Loading file SOR-99-382\nLoading file SOR-99-383\nLoading file SOR-99-384\nLoading file SOR-99-388\nLoading file SOR-99-4\nLoading file SOR-99-409\nLoading file SOR-99-410\nLoading file SOR-99-422\nLoading file SOR-99-444\nLoading file SOR-99-451\nLoading file SOR-99-460\nLoading file SOR-99-467\nLoading file SOR-99-53\n"
     ]
    },
    {
     "name": "stdout",
     "output_type": "stream",
     "text": [
      "Loading file SOR-99-7\nLoading file SOR-99-86\nLoading file SOR-99-93\nLoading file SOR-99-94\n"
     ]
    }
   ],
   "source": [
    "documents: List[TaggedDocument] = []\n",
    "tags: List[str] = []\n",
    "if conf.DATA_SOURCE == 'long_title':\n",
    "    with open(csvfile, 'r') as f:\n",
    "        df = pd.read_csv(f)\n",
    "        tags = long_titles = df['long_title']\n",
    "    documents = [TaggedDocument(doc, [i])\n",
    "                 for i, doc in enumerate([tokenize(title)\n",
    "                                          for title in long_titles])]\n",
    "elif conf.DATA_SOURCE == 'full_text':\n",
    "    for root, _, files in walk('txt'):\n",
    "        tags = sorted(files)\n",
    "        for i, name in enumerate(tags):\n",
    "            print('Loading file {}'.format(name))\n",
    "            with open(path.join(root, name), 'r') as f:\n",
    "                documents.append(TaggedDocument(tokenize(f.read()), [i]))\n",
    "        break\n",
    "else:\n",
    "    print('Invalid data source')\n",
    "    sys.exit(1)"
   ]
  },
  {
   "cell_type": "code",
   "execution_count": 10,
   "metadata": {},
   "outputs": [
    {
     "name": "stdout",
     "output_type": "stream",
     "text": [
      "Building Doc2Vec model\n"
     ]
    },
    {
     "name": "stderr",
     "output_type": "stream",
     "text": [
      "/home/bumblebee/Documents/UROP/code/venv/lib64/python3.6/site-packages/ipykernel_launcher.py:12: DeprecationWarning: Call to deprecated `iter` (Attribute will be removed in 4.0.0, use self.epochs instead).\n  if sys.path[0] == '':\n"
     ]
    }
   ],
   "source": [
    "build_model(documents)"
   ]
  },
  {
   "cell_type": "code",
   "execution_count": 13,
   "metadata": {
    "collapsed": false
   },
   "outputs": [
    {
     "data": {
      "image/png": "[encoded data removed]",
      "text/plain": [
       "<Figure size 432x288 with 1 Axes>"
      ]
     },
     "metadata": {},
     "output_type": "display_data"
    }
   ],
   "source": [
    "kmeans_model, colors = cluster()\n",
    "centers = kmeans_model.cluster_centers_\n",
    "\n",
    "df = pd.DataFrame(sorted(list(zip(colors, tags)), key=lambda x: x[0]))\n",
    "\n",
    "df.to_pickle('data_frame_{}'.format(conf.DATA_SOURCE))\n",
    "df.to_csv('cluster_result_{}.csv'.format(conf.DATA_SOURCE),\n",
    "          index=False)\n",
    "\n",
    "# print(centers)\n",
    "# print(kmeans_model.labels_)\n",
    "\n",
    "# Got multi-dimensional vectors in the result. Project to plot\n",
    "pca_2d = PCA(n_components=2).fit_transform(load_model().docvecs.vectors_docs)\n",
    "plt.scatter(pca_2d[:, 0], pca_2d[:, 1],\n",
    "            c=colors,\n",
    "            picker=True)\n",
    "plt.scatter(centers[:, 0], centers[:, 1],\n",
    "            c='black',\n",
    "            s=100,\n",
    "            alpha=0.3)\n",
    "\n",
    "plt.savefig('cluster_plot.svg',\n",
    "            format='svg')\n",
    "plt.show()\n"
   ]
  },
  {
   "cell_type": "code",
   "execution_count": null,
   "metadata": {},
   "outputs": [],
   "source": []
  }
 ],
 "metadata": {
  "language": "python"
 },
 "nbformat": 4,
 "nbformat_minor": 2
}
